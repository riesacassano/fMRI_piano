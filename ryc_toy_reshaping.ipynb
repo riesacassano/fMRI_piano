{
  "nbformat": 4,
  "nbformat_minor": 0,
  "metadata": {
    "colab": {
      "name": "ryc_toy_reshaping.ipynb",
      "provenance": [],
      "collapsed_sections": []
    },
    "kernelspec": {
      "name": "python3",
      "display_name": "Python 3"
    },
    "language_info": {
      "name": "python"
    }
  },
  "cells": [
    {
      "cell_type": "code",
      "metadata": {
        "id": "ObbNOtNByGKL"
      },
      "source": [
        "import numpy as np\n",
        "import matplotlib.pyplot as plt"
      ],
      "execution_count": 1,
      "outputs": []
    },
    {
      "cell_type": "markdown",
      "metadata": {
        "id": "CxhItC4hzVrh"
      },
      "source": [
        "This toy array has 3 runs of 4 conditions with 5 TRs in each run. We start with an array that has all of the data in one dimension. Let's say that all of run 1 is first (with conditions in order), then all of run 2, then all of run 3."
      ]
    },
    {
      "cell_type": "code",
      "metadata": {
        "id": "K8TKDYBn0lDz"
      },
      "source": [
        "n_TRs = 5\n",
        "n_conds = 4\n",
        "n_runs = 3"
      ],
      "execution_count": 9,
      "outputs": []
    },
    {
      "cell_type": "code",
      "metadata": {
        "colab": {
          "base_uri": "https://localhost:8080/",
          "height": 53
        },
        "id": "lVfgEB18zVDf",
        "outputId": "c4d58d85-b485-45f6-cb8f-21378c2f74a4"
      },
      "source": [
        "toy = np.arange(n_TRs*n_conds*n_runs)\n",
        "toy = np.reshape(toy,(n_TRs*n_conds*n_runs,1))\n",
        "plt.imshow(toy.T)\n",
        "plt.yticks([]);"
      ],
      "execution_count": 10,
      "outputs": [
        {
          "output_type": "display_data",
          "data": {
            "image/png": "[encoded data removed]",
            "text/plain": [
              "<Figure size 432x288 with 1 Axes>"
            ]
          },
          "metadata": {
            "needs_background": "light"
          }
        }
      ]
    },
    {
      "cell_type": "markdown",
      "metadata": {
        "id": "xgauizrCz0mX"
      },
      "source": [
        "Let's say we want to reshape the data by run, keeping time as the first dimension. In this case, we're looking for an array of size 20 x 3. We'll first try `order='C'` since that is the default."
      ]
    },
    {
      "cell_type": "code",
      "metadata": {
        "colab": {
          "base_uri": "https://localhost:8080/",
          "height": 265
        },
        "id": "MCBJklkSzl7B",
        "outputId": "f6e4cbfe-ca52-4af9-f898-382849681622"
      },
      "source": [
        "toy_C = np.reshape(toy,(n_TRs*n_conds,-1),order='C')\n",
        "plt.imshow(toy_C)\n",
        "plt.xticks([0,1,2])\n",
        "plt.yticks(np.arange(n_TRs*n_conds));"
      ],
      "execution_count": 45,
      "outputs": [
        {
          "output_type": "display_data",
          "data": {
            "image/png": "[encoded data removed]",
            "text/plain": [
              "<Figure size 432x288 with 1 Axes>"
            ]
          },
          "metadata": {
            "needs_background": "light"
          }
        }
      ]
    },
    {
      "cell_type": "markdown",
      "metadata": {
        "id": "U1WDm9HJ1Bnf"
      },
      "source": [
        "This is incorrect - each row of the new array does not contain the data from one run, as shown below."
      ]
    },
    {
      "cell_type": "code",
      "metadata": {
        "colab": {
          "base_uri": "https://localhost:8080/"
        },
        "id": "W8H1gJWT0_bD",
        "outputId": "3d6977a5-c3d7-4bb4-c71a-de5f0b6b4937"
      },
      "source": [
        "print(toy_C[:,0])"
      ],
      "execution_count": 19,
      "outputs": [
        {
          "output_type": "stream",
          "name": "stdout",
          "text": [
            "[ 0  3  6  9 12 15 18 21 24 27 30 33 36 39 42 45 48 51 54 57]\n"
          ]
        }
      ]
    },
    {
      "cell_type": "markdown",
      "metadata": {
        "id": "26sfmN3B17m7"
      },
      "source": [
        "Instead, we need to use `order=F` to keep the runs intact when reshaping."
      ]
    },
    {
      "cell_type": "code",
      "metadata": {
        "colab": {
          "base_uri": "https://localhost:8080/",
          "height": 279
        },
        "id": "6V3_EzaC1jU9",
        "outputId": "b8db47a8-06a0-45d2-d0f6-95120707c452"
      },
      "source": [
        "toy_F = np.reshape(toy,(n_TRs*n_conds,-1),order='F')\n",
        "plt.imshow(toy_F)\n",
        "plt.xticks([0,1,2])\n",
        "plt.xlabel('runs')\n",
        "plt.yticks(np.arange(n_TRs*n_conds))\n",
        "plt.ylabel('TRs');"
      ],
      "execution_count": 43,
      "outputs": [
        {
          "output_type": "display_data",
          "data": {
            "image/png": "[encoded data removed]",
            "text/plain": [
              "<Figure size 432x288 with 1 Axes>"
            ]
          },
          "metadata": {
            "needs_background": "light"
          }
        }
      ]
    },
    {
      "cell_type": "markdown",
      "metadata": {
        "id": "2xbiHWny2Ev9"
      },
      "source": [
        "Now the runs are intact."
      ]
    },
    {
      "cell_type": "code",
      "metadata": {
        "colab": {
          "base_uri": "https://localhost:8080/"
        },
        "id": "4P0PmT0_2Blu",
        "outputId": "bca315d4-84c0-4c92-ef80-83ee06b13c69"
      },
      "source": [
        "print(toy_F[:,0])"
      ],
      "execution_count": 22,
      "outputs": [
        {
          "output_type": "stream",
          "name": "stdout",
          "text": [
            "[ 0  1  2  3  4  5  6  7  8  9 10 11 12 13 14 15 16 17 18 19]\n"
          ]
        }
      ]
    },
    {
      "cell_type": "markdown",
      "metadata": {
        "id": "sc7ggjBx2LJ3"
      },
      "source": [
        "We also need to use `order=F` if we want to reshape by conditions. Now we'll reshape into an array of size 5 x 4 x 3."
      ]
    },
    {
      "cell_type": "code",
      "metadata": {
        "colab": {
          "base_uri": "https://localhost:8080/"
        },
        "id": "IZfpGYYQ2IZ4",
        "outputId": "8a03a691-d2d0-493b-8071-0a21550c436e"
      },
      "source": [
        "toy3_F = np.reshape(toy, (n_TRs,n_conds,n_runs), order='F')\n",
        "print(toy3_F.shape)"
      ],
      "execution_count": 26,
      "outputs": [
        {
          "output_type": "stream",
          "name": "stdout",
          "text": [
            "(5, 4, 3)\n"
          ]
        }
      ]
    },
    {
      "cell_type": "code",
      "metadata": {
        "colab": {
          "base_uri": "https://localhost:8080/",
          "height": 201
        },
        "id": "9CkoMnvu2iBu",
        "outputId": "c493c77a-a01c-4ad2-8608-453a2fb7d20f"
      },
      "source": [
        "fig,ax = plt.subplots(1,3,sharey=True)\n",
        "ax[0].set_ylabel('TRs')\n",
        "for i in range(n_runs):\n",
        "  ax[i].imshow(toy3_F[:,:,i],vmin=0, vmax=59)\n",
        "  ax[i].set_xlabel('conds')\n",
        "  ax[i].set_xticks(np.arange(4))\n",
        "  ax[i].set_title('run %d'%(i+1))"
      ],
      "execution_count": 31,
      "outputs": [
        {
          "output_type": "display_data",
          "data": {
            "image/png": "[encoded data removed]",
            "text/plain": [
              "<Figure size 432x288 with 3 Axes>"
            ]
          },
          "metadata": {
            "needs_background": "light"
          }
        }
      ]
    },
    {
      "cell_type": "markdown",
      "metadata": {
        "id": "9TqIjIhm3tKp"
      },
      "source": [
        "Each heatmap is a separate run, and each column is a condition."
      ]
    },
    {
      "cell_type": "markdown",
      "metadata": {
        "id": "KpPxWbbl39cN"
      },
      "source": [
        "`order=F` is also necessary if/when we have to string the data back out. For the toy example, we could use `np.flatten`, but with the real data there will be other dimensions that need to be preserved."
      ]
    },
    {
      "cell_type": "code",
      "metadata": {
        "colab": {
          "base_uri": "https://localhost:8080/"
        },
        "id": "5hlKlsaZ3KyI",
        "outputId": "54a07339-2c19-4f16-b542-9e7dab3a61b2"
      },
      "source": [
        "toy_back_out_C = np.reshape(toy3_F,(-1))\n",
        "print(toy_back_out_C.shape)"
      ],
      "execution_count": 32,
      "outputs": [
        {
          "output_type": "stream",
          "name": "stdout",
          "text": [
            "(60,)\n"
          ]
        }
      ]
    },
    {
      "cell_type": "code",
      "metadata": {
        "colab": {
          "base_uri": "https://localhost:8080/",
          "height": 53
        },
        "id": "VyUCPGyV4cOC",
        "outputId": "f13178a5-894b-48c2-e372-8a81f3b567b3"
      },
      "source": [
        "toy_back_out_C = np.reshape(toy_back_out_C, (60,1))\n",
        "plt.imshow(toy_back_out_C.T)\n",
        "plt.yticks([]);"
      ],
      "execution_count": 36,
      "outputs": [
        {
          "output_type": "display_data",
          "data": {
            "image/png": "[encoded data removed]",
            "text/plain": [
              "<Figure size 432x288 with 1 Axes>"
            ]
          },
          "metadata": {
            "needs_background": "light"
          }
        }
      ]
    },
    {
      "cell_type": "code",
      "metadata": {
        "colab": {
          "base_uri": "https://localhost:8080/"
        },
        "id": "6b75P5WX4ehg",
        "outputId": "a099568d-a039-44bc-85dc-185c12d511a9"
      },
      "source": [
        "print(toy_back_out_C.T[:20])"
      ],
      "execution_count": 38,
      "outputs": [
        {
          "output_type": "stream",
          "name": "stdout",
          "text": [
            "[[ 0 20 40  5 25 45 10 30 50 15 35 55  1 21 41  6 26 46 11 31 51 16 36 56\n",
            "   2 22 42  7 27 47 12 32 52 17 37 57  3 23 43  8 28 48 13 33 53 18 38 58\n",
            "   4 24 44  9 29 49 14 34 54 19 39 59]]\n"
          ]
        }
      ]
    },
    {
      "cell_type": "code",
      "metadata": {
        "colab": {
          "base_uri": "https://localhost:8080/"
        },
        "id": "LPxLAbX94tIS",
        "outputId": "ef7b928d-f225-48f0-c4f5-3e2750ec862d"
      },
      "source": [
        "toy_back_out_F = np.reshape(toy3_F,(-1),order='F')\n",
        "print(toy_back_out_F.shape)"
      ],
      "execution_count": 39,
      "outputs": [
        {
          "output_type": "stream",
          "name": "stdout",
          "text": [
            "(60,)\n"
          ]
        }
      ]
    },
    {
      "cell_type": "code",
      "metadata": {
        "colab": {
          "base_uri": "https://localhost:8080/",
          "height": 53
        },
        "id": "cHv7xsfT40tM",
        "outputId": "c13e16e6-5093-4081-d045-5ab030d1ea42"
      },
      "source": [
        "toy_back_out_F = np.reshape(toy_back_out_F, (60,1))\n",
        "plt.imshow(toy_back_out_F.T)\n",
        "plt.yticks([]);"
      ],
      "execution_count": 40,
      "outputs": [
        {
          "output_type": "display_data",
          "data": {
            "image/png": "[encoded data removed]",
            "text/plain": [
              "<Figure size 432x288 with 1 Axes>"
            ]
          },
          "metadata": {
            "needs_background": "light"
          }
        }
      ]
    }
  ]
}