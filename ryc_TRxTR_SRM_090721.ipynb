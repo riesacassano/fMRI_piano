{
  "nbformat": 4,
  "nbformat_minor": 0,
  "metadata": {
    "colab": {
      "name": "ryc_TRxTR-SRM_090721.ipynb",
      "provenance": [],
      "collapsed_sections": []
    },
    "kernelspec": {
      "name": "python3",
      "display_name": "Python 3"
    },
    "language_info": {
      "name": "python"
    }
  },
  "cells": [
    {
      "cell_type": "code",
      "metadata": {
        "id": "mbgZ7c5vIVwj"
      },
      "source": [
        "# don't run this unless you're running SRM\n",
        "#!pip install brainiak"
      ],
      "execution_count": null,
      "outputs": []
    },
    {
      "cell_type": "code",
      "metadata": {
        "id": "n3RL-3iuMm9A"
      },
      "source": [
        "import numpy as np\n",
        "from scipy import stats\n",
        "import matplotlib.pyplot as plt\n",
        "#from brainiak.funcalign.srm import SRM"
      ],
      "execution_count": 9,
      "outputs": []
    },
    {
      "cell_type": "code",
      "metadata": {
        "id": "N-7TJJ56Mp9A"
      },
      "source": [
        "roi = 'A1'\n",
        "filepath = 'drive/MyDrive/fMRI_music_data/%s_by_subject/'%roi\n",
        "subjects = ['03','15','20','23']"
      ],
      "execution_count": 23,
      "outputs": []
    },
    {
      "cell_type": "code",
      "metadata": {
        "colab": {
          "base_uri": "https://localhost:8080/"
        },
        "id": "3Yhql0sGNZPw",
        "outputId": "be199110-4849-4b21-9a2f-946f19961e0d"
      },
      "source": [
        "# load data from one subject to inspect\n",
        "s = '03'\n",
        "test = np.loadtxt(filepath+'%s_s1%s.txt'%(roi,s))\n",
        "print(test.shape)"
      ],
      "execution_count": 24,
      "outputs": [
        {
          "output_type": "stream",
          "name": "stdout",
          "text": [
            "(516, 2775)\n"
          ]
        }
      ]
    },
    {
      "cell_type": "markdown",
      "metadata": {
        "id": "HiBQeP6NPL86"
      },
      "source": [
        "There are 516 voxels in A1. The first three entries of each row are voxel coordinates. Then there are 18 runs of 154 TRs each. The first six TRs are zeros."
      ]
    },
    {
      "cell_type": "markdown",
      "metadata": {
        "id": "wyuPjoGiRPLT"
      },
      "source": [
        "First, load in the data from all subjects for processing."
      ]
    },
    {
      "cell_type": "code",
      "metadata": {
        "colab": {
          "base_uri": "https://localhost:8080/"
        },
        "id": "v9A0Umw4Plr1",
        "outputId": "68b316b9-c805-4a6f-ff4c-04f65b097cf4"
      },
      "source": [
        "data = []\n",
        "\n",
        "# load in the data from each subjects and append it to the list\n",
        "for subj in subjects: data.append(np.loadtxt(filepath+'%s_s1%s.txt'%(roi,subj)))\n",
        "\n",
        "# check the size of the list and its elements\n",
        "print(len(data))\n",
        "print(data[0].shape)\n",
        "\n",
        "# recast the list into an array and check the shape\n",
        "data = np.asarray(data)\n",
        "print(data.shape)"
      ],
      "execution_count": 34,
      "outputs": [
        {
          "output_type": "stream",
          "name": "stdout",
          "text": [
            "4\n",
            "(516, 2775)\n",
            "(4, 516, 2775)\n"
          ]
        }
      ]
    },
    {
      "cell_type": "markdown",
      "metadata": {
        "id": "P-D2tBXJRWQu"
      },
      "source": [
        "Process the data to remove unnecessary elements and runs. We're not using the control conditions for this analysis so we only keep the first twelve runs (the runs with scrambled conditions). "
      ]
    },
    {
      "cell_type": "code",
      "metadata": {
        "colab": {
          "base_uri": "https://localhost:8080/"
        },
        "id": "nJUgQGV0QXz1",
        "outputId": "7a880458-81db-4475-f14d-11f070bd07f1"
      },
      "source": [
        "# crop the first three entries of each row (voxel coordinates)\n",
        "data = data[:,:,3:]\n",
        "print('without voxel coords: ', data.shape)\n",
        "\n",
        "# reshape into runs\n",
        "data = np.reshape(data,(4,516,18,154))\n",
        "\n",
        "# crop the six empty TRs at the beginning of each run\n",
        "# drop the control conditions\n",
        "data = data[:,:,:12,6:]\n",
        "print('final data shape: ', data.shape)"
      ],
      "execution_count": 35,
      "outputs": [
        {
          "output_type": "stream",
          "name": "stdout",
          "text": [
            "without voxel coords:  (4, 516, 2772)\n",
            "final data shape:  (4, 516, 12, 148)\n"
          ]
        }
      ]
    },
    {
      "cell_type": "markdown",
      "metadata": {
        "id": "aBwDs5TnNqNa"
      },
      "source": [
        "For this analysis, we're interested in event segmentation in run 1 of the 8B condition. Since subjects played the conditions in a counterbalanced order, the run of interest is in a different location in each subject's data. Which run is 8B run 1 is recorded in the 'loc' variable."
      ]
    },
    {
      "cell_type": "code",
      "metadata": {
        "id": "eVVDXRetNorE"
      },
      "source": [
        "loc = [0,1,2,2]"
      ],
      "execution_count": 6,
      "outputs": []
    },
    {
      "cell_type": "markdown",
      "metadata": {
        "id": "ugyIWjkSTCFX"
      },
      "source": [
        "For each subject, copy the data to a temporary variable (`this_data`). Take the run of interest and append it to `test_data` then delete it from `this_data`. Then, take the rest of that subject's data and append it to `train_data`.\n"
      ]
    },
    {
      "cell_type": "code",
      "metadata": {
        "id": "64BzLSVmS1CN"
      },
      "source": [
        "train_data = []\n",
        "test_data = []\n",
        "\n",
        "for s in range(len(subjects)):\n",
        "  subj = subjects[s]\n",
        "  this_data = np.copy(data[s,:,:,:])\n",
        "\n",
        "  # append the run of interest to test_data\n",
        "  test_data.append(this_data[:,loc[s],:])\n",
        "\n",
        "  # delete the run from this_data\n",
        "  this_data = np.delete(this_data,loc[s],1)\n",
        "\n",
        "  # append the rest of the data to train_data\n",
        "  train_data.append(this_data)"
      ],
      "execution_count": 40,
      "outputs": []
    },
    {
      "cell_type": "code",
      "metadata": {
        "colab": {
          "base_uri": "https://localhost:8080/"
        },
        "id": "m-onHoEPT47m",
        "outputId": "da681c4a-860b-4481-89b4-228ec0178293"
      },
      "source": [
        "# recast our lists into arrays\n",
        "train_data = np.array(train_data)\n",
        "test_data = np.array(test_data)\n",
        "\n",
        "# sanity check\n",
        "print(train_data.shape)\n",
        "print(test_data.shape)"
      ],
      "execution_count": 43,
      "outputs": [
        {
          "output_type": "stream",
          "name": "stdout",
          "text": [
            "(4, 516, 11, 148)\n",
            "(4, 516, 148)\n"
          ]
        }
      ]
    },
    {
      "cell_type": "code",
      "metadata": {
        "id": "Tadk6h3NU70C"
      },
      "source": [
        ""
      ],
      "execution_count": null,
      "outputs": []
    }
  ]
}