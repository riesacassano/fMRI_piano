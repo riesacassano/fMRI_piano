{
  "nbformat": 4,
  "nbformat_minor": 0,
  "metadata": {
    "colab": {
      "name": "ryc_correlation_classifier_092521.ipynb",
      "provenance": [],
      "collapsed_sections": [
        "F8SiyM89zJK2"
      ]
    },
    "kernelspec": {
      "name": "python3",
      "display_name": "Python 3"
    },
    "language_info": {
      "name": "python"
    }
  },
  "cells": [
    {
      "cell_type": "markdown",
      "metadata": {
        "id": "r5pBPKqz9YrT"
      },
      "source": [
        "The correlation classifier (implemented as a function here) takes a four-dimensional array of all subjects' data for all four conditions in an ROI (subjects x voxels x time x condition). Reps are not included in this analysis - it is possible to average over all three reps or just use rep 1. \n",
        "\n",
        "\n",
        "For each subject, the function correlates a voxel by time matrix from that subject in one condition with the VxT matrix of the other averaged subjects in all conditions. The correlation with the highest value is assigned as the prediction. If the predicted condition matches the actual condition, then the outcome is correct. This is performed for all four conditions and all subjects.\n",
        "\n",
        "\n",
        "This implementation is a cross-subjects classifier, since that will be most useful in determining the utility of PCA and SRM. I expect that SRM with fewer features will perform the best in terms of prediction, indicating an improvement in cross-subject alignment. PCA will be used as a control for dimensionality reduction. I wouldn't be surprised if there's a ceiling effect with this analysis.\n"
      ]
    },
    {
      "cell_type": "code",
      "metadata": {
        "id": "M5nBN-6jusw8"
      },
      "source": [
        "!pip install brainiak"
      ],
      "execution_count": null,
      "outputs": []
    },
    {
      "cell_type": "code",
      "metadata": {
        "id": "8lOrdwpp89QU"
      },
      "source": [
        "import numpy as np\n",
        "import matplotlib.pyplot as plt\n",
        "from sklearn.preprocessing import StandardScaler\n",
        "from sklearn.decomposition import PCA\n",
        "from brainiak.funcalign.srm import SRM"
      ],
      "execution_count": 10,
      "outputs": []
    },
    {
      "cell_type": "code",
      "metadata": {
        "id": "UxrXt-YE9JrH"
      },
      "source": [
        "def correlation_classifier(data):\n",
        "  # data is in shape subjects x voxels x time x condition\n",
        "  no_subj = data.shape[0]\n",
        "  no_cond = data.shape[3]\n",
        "\n",
        "  accuracy = np.zeros((no_cond,no_subj),dtype=bool)\n",
        "\n",
        "  for s in range(no_subj):\n",
        "\n",
        "    #print('subject %d'%s)\n",
        "\n",
        "    # grab the data for this loop\n",
        "    this_sub = data[s,:,:,:]\n",
        "    avg_others = np.average(data[np.arange(no_subj)[np.arange(no_subj)!=s],:,:,:],axis=0)\n",
        "\n",
        "    # for each condition\n",
        "    for i in range(no_cond):\n",
        "\n",
        "      # calculate the correlation value between this condition in this subject\n",
        "      # and each condition in the average of other subjects\n",
        "      corr_vals = np.zeros(no_cond)\n",
        "\n",
        "      for j in range(no_cond):\n",
        "\n",
        "        # grab the data for the conditions being tested\n",
        "        this_flat = this_sub[:,:,i].flatten()\n",
        "        avg_flat = avg_others[:,:,j].flatten()\n",
        "\n",
        "        corr_vals[j] = np.corrcoef(this_flat,avg_flat)[0,1]\n",
        "\n",
        "      #print('accuracy for cond %d'%i)\n",
        "      #print(corr_vals)\n",
        "      #print(i == np.argmax(corr_vals))\n",
        "\n",
        "      # if the largest correlation is to the same condition, \n",
        "      # the prediction was correct\n",
        "      accuracy[i,s] = i == np.argmax(corr_vals)\n",
        "  \n",
        "  #print()\n",
        "  #print(accuracy)\n",
        "\n",
        "\n",
        "  # return accuracy as a proportion correct across subjects\n",
        "  return np.sum(accuracy, axis=1) / no_subj"
      ],
      "execution_count": 4,
      "outputs": []
    },
    {
      "cell_type": "markdown",
      "metadata": {
        "id": "F8SiyM89zJK2"
      },
      "source": [
        "## Testing"
      ]
    },
    {
      "cell_type": "code",
      "metadata": {
        "id": "nK0Mi6S9GKCI"
      },
      "source": [
        "# create array of random values to test\n",
        "# let's pretend this ROI has 100 voxels\n",
        "data_rand = np.random.rand(4,100,148,4)\n",
        "#correlation_classifier(data_rand)\n",
        "acc = correlation_classifier(data_rand)\n",
        "print(acc)"
      ],
      "execution_count": null,
      "outputs": []
    },
    {
      "cell_type": "markdown",
      "metadata": {
        "id": "QYy-LBBfYBZW"
      },
      "source": [
        "Now that it's working, let's load the real data from A1. (The following code was borrowed from `ryc_TRxTR-SRM_091321.ipynb`.)"
      ]
    },
    {
      "cell_type": "code",
      "metadata": {
        "id": "YxP1gOctXVYM"
      },
      "source": [
        "roi = 'A1'\n",
        "filepath = 'drive/MyDrive/fMRI_music_data/%s_by_subject_sorted_conds/'%roi\n",
        "subjects = ['03','15','20','23']"
      ],
      "execution_count": 5,
      "outputs": []
    },
    {
      "cell_type": "code",
      "metadata": {
        "colab": {
          "base_uri": "https://localhost:8080/"
        },
        "id": "8DiiikmEZVc9",
        "outputId": "854a893c-1ada-460f-9fc4-4bee5b1cead6"
      },
      "source": [
        "# load in the data from all subjects\n",
        "data = []\n",
        "for subj in subjects: \n",
        "  data.append(np.load(filepath+'%s_sub-1%s.npy'%(roi,subj)))\n",
        "\n",
        "# recast the list into an array and check the shape\n",
        "data = np.asarray(data)\n",
        "print(data.shape)"
      ],
      "execution_count": 6,
      "outputs": [
        {
          "output_type": "stream",
          "name": "stdout",
          "text": [
            "(4, 516, 1776)\n"
          ]
        }
      ]
    },
    {
      "cell_type": "markdown",
      "metadata": {
        "id": "ID6hoQdCZdk6"
      },
      "source": [
        "Right now, this is all of the data from all of the reps. For this analysis, take only the data from rep 1."
      ]
    },
    {
      "cell_type": "code",
      "metadata": {
        "colab": {
          "base_uri": "https://localhost:8080/"
        },
        "id": "854p0ljXZXD0",
        "outputId": "a498bacf-a744-49e9-b8d9-3c47c752c15b"
      },
      "source": [
        "n_sub = len(subjects)\n",
        "n_voxels = data.shape[1]\n",
        "n_TRs = 148\n",
        "n_conds = 4\n",
        "n_runs = 3\n",
        "\n",
        "orig_data = np.copy(data)\n",
        "orig_data = np.reshape(orig_data,(n_sub,n_voxels,n_TRs,n_conds,n_runs),order='F')\n",
        "print(orig_data.shape)"
      ],
      "execution_count": 7,
      "outputs": [
        {
          "output_type": "stream",
          "name": "stdout",
          "text": [
            "(4, 516, 148, 4, 3)\n"
          ]
        }
      ]
    },
    {
      "cell_type": "code",
      "metadata": {
        "colab": {
          "base_uri": "https://localhost:8080/"
        },
        "id": "38OifOXxZuZY",
        "outputId": "561af1d0-8b1b-41c4-e961-84154bddae68"
      },
      "source": [
        "rep1_data = orig_data[:,:,:,:,0]\n",
        "print(rep1_data.shape)"
      ],
      "execution_count": 8,
      "outputs": [
        {
          "output_type": "stream",
          "name": "stdout",
          "text": [
            "(4, 516, 148, 4)\n"
          ]
        }
      ]
    },
    {
      "cell_type": "code",
      "metadata": {
        "colab": {
          "base_uri": "https://localhost:8080/"
        },
        "id": "kK_JgB5rZ6Bm",
        "outputId": "3a7bed64-9657-4a2f-aa2d-dd6a196356b3"
      },
      "source": [
        "# run the rep 1 data through the classifier\n",
        "true_acc = correlation_classifier(rep1_data)"
      ],
      "execution_count": null,
      "outputs": [
        {
          "output_type": "stream",
          "name": "stdout",
          "text": [
            "subject 0\n",
            "accuracy for cond 0\n",
            "[0.02197606 0.01385221 0.02251754 0.01839836]\n",
            "False\n",
            "accuracy for cond 1\n",
            "[0.00772357 0.0294541  0.02375911 0.01051152]\n",
            "True\n",
            "accuracy for cond 2\n",
            "[0.04739856 0.01224783 0.02841029 0.02034555]\n",
            "False\n",
            "accuracy for cond 3\n",
            "[0.01153964 0.00089649 0.00539758 0.02192166]\n",
            "True\n",
            "subject 1\n",
            "accuracy for cond 0\n",
            "[0.02766756 0.00578623 0.04525585 0.0109404 ]\n",
            "False\n",
            "accuracy for cond 1\n",
            "[ 0.00807048  0.04345539  0.02055492 -0.00563804]\n",
            "True\n",
            "accuracy for cond 2\n",
            "[0.03514422 0.01475202 0.01689835 0.00266933]\n",
            "False\n",
            "accuracy for cond 3\n",
            "[ 0.01608528 -0.02597819 -0.00084698  0.00626816]\n",
            "False\n",
            "subject 2\n",
            "accuracy for cond 0\n",
            "[0.02654595 0.00860034 0.03373211 0.02190443]\n",
            "False\n",
            "accuracy for cond 1\n",
            "[ 0.01562842  0.03467747  0.01207248 -0.00098585]\n",
            "True\n",
            "accuracy for cond 2\n",
            "[ 0.0288729   0.03727881  0.02547191 -0.00449937]\n",
            "False\n",
            "accuracy for cond 3\n",
            "[ 0.01328347 -0.00108772  0.02004571  0.02516735]\n",
            "True\n",
            "subject 3\n",
            "accuracy for cond 0\n",
            "[0.0315967  0.02207762 0.02080318 0.00114812]\n",
            "True\n",
            "accuracy for cond 1\n",
            "[ 0.01804878  0.06555194  0.02319088 -0.01757776]\n",
            "True\n",
            "accuracy for cond 2\n",
            "[0.00789246 0.01561667 0.02730802 0.00560036]\n",
            "True\n",
            "accuracy for cond 3\n",
            "[0.01389738 0.01371646 0.00302438 0.02125392]\n",
            "True\n",
            "\n",
            "[[False False False  True]\n",
            " [ True  True  True  True]\n",
            " [False False False  True]\n",
            " [ True False  True  True]]\n"
          ]
        }
      ]
    },
    {
      "cell_type": "code",
      "metadata": {
        "colab": {
          "base_uri": "https://localhost:8080/"
        },
        "id": "U8JHZ3RbapKt",
        "outputId": "287a7222-3335-4036-cf9c-b3335af79e4e"
      },
      "source": [
        "print(true_acc)"
      ],
      "execution_count": null,
      "outputs": [
        {
          "output_type": "stream",
          "name": "stdout",
          "text": [
            "[0.25 1.   0.25 0.75]\n"
          ]
        }
      ]
    },
    {
      "cell_type": "markdown",
      "metadata": {
        "id": "a6vgiqcbavsQ"
      },
      "source": [
        "This means that for all subjects, the 8B matrix was best correlated with the 8B matrix of average other subjects. It is interesting that 1B is the next most accurate, and Intact and 2B are the worst. We can also see (from the previous cell's output) that the classifier was accurate for all conditions with s123, but not the other subjects. Looking at previously calculated ISC values (in the temporal ISC folder from the spring, `all_ROIs_AM/values.xlsx`), s123's ISC values aren't noticeably higher than the other subjects' values in A1."
      ]
    },
    {
      "cell_type": "markdown",
      "metadata": {
        "id": "FZaZP-OuzCsE"
      },
      "source": [
        "## Correlation classifier analysis\n",
        "Original, PCA, SRM"
      ]
    },
    {
      "cell_type": "code",
      "metadata": {
        "id": "TMoY7RdXzPkD"
      },
      "source": [
        "# choose the ROI and subjects, set the filepath\n",
        "roi = 'A1'\n",
        "filepath = 'drive/MyDrive/fMRI_music_data/%s_by_subject_sorted_conds/'%roi\n",
        "subjects = ['03','15','20','23']\n",
        "\n",
        "# set the k-values to use in PCA and SRM\n",
        "k = [10,50,100]"
      ],
      "execution_count": 11,
      "outputs": []
    },
    {
      "cell_type": "code",
      "metadata": {
        "colab": {
          "base_uri": "https://localhost:8080/"
        },
        "id": "rAi5E-RRzXRv",
        "outputId": "dfb4da23-9422-465a-f37f-40c03891c70b"
      },
      "source": [
        "# load in the data from all subjects, normalize by subject\n",
        "data = []\n",
        "for subj in subjects: \n",
        "  this_data = np.load(filepath+'%s_sub-1%s.npy'%(roi,subj))\n",
        "  # normalization step\n",
        "  this_data_norm = StandardScaler().fit_transform(this_data.T)\n",
        "  data.append(this_data_norm.T)\n",
        "\n",
        "# recast the list into an array and check the shape\n",
        "data = np.asarray(data)\n",
        "print(data.shape)"
      ],
      "execution_count": 25,
      "outputs": [
        {
          "output_type": "stream",
          "name": "stdout",
          "text": [
            "(4, 516, 1776)\n"
          ]
        }
      ]
    },
    {
      "cell_type": "code",
      "metadata": {
        "colab": {
          "base_uri": "https://localhost:8080/"
        },
        "id": "_oKYLwxizjlZ",
        "outputId": "f59e225b-96ae-4548-c871-190be49b25f0"
      },
      "source": [
        "n_sub = len(subjects)\n",
        "n_voxels = data.shape[1]\n",
        "n_TRs = 148\n",
        "n_conds = 4\n",
        "n_runs = 3\n",
        "\n",
        "# reshape the data into conditions and runs\n",
        "orig_data = np.copy(data)\n",
        "orig_data = np.reshape(orig_data,(n_sub,n_voxels,n_TRs,n_conds,n_runs),order='F')\n",
        "print(orig_data.shape)\n",
        "\n",
        "# take only the rep 1 data for this analysis\n",
        "rep1_data = orig_data[:,:,:,:,0]\n",
        "print(rep1_data.shape)"
      ],
      "execution_count": 26,
      "outputs": [
        {
          "output_type": "stream",
          "name": "stdout",
          "text": [
            "(4, 516, 148, 4, 3)\n",
            "(4, 516, 148, 4)\n"
          ]
        }
      ]
    },
    {
      "cell_type": "code",
      "metadata": {
        "colab": {
          "base_uri": "https://localhost:8080/"
        },
        "id": "lNdQcBfkvHuP",
        "outputId": "d95da370-2674-46bc-e751-1b5609eb62b5"
      },
      "source": [
        "# run the rep 1 data through the classifier\n",
        "true_acc = correlation_classifier(rep1_data)\n",
        "print(true_acc)"
      ],
      "execution_count": 27,
      "outputs": [
        {
          "output_type": "stream",
          "name": "stdout",
          "text": [
            "[0.75 1.   0.25 0.75]\n"
          ]
        }
      ]
    },
    {
      "cell_type": "code",
      "metadata": {
        "id": "ZtMQ-8aCvU_o"
      },
      "source": [
        "# for each k-value, perform PCA \n",
        "# then run the feature x time matrix through the classifier\n",
        "for features in k:\n",
        "  pca = PCA(n_components=features)"
      ],
      "execution_count": null,
      "outputs": []
    }
  ]
}