{
  "nbformat": 4,
  "nbformat_minor": 0,
  "metadata": {
    "colab": {
      "name": "ryc_correlation_classifier_092521.ipynb",
      "provenance": [],
      "collapsed_sections": []
    },
    "kernelspec": {
      "name": "python3",
      "display_name": "Python 3"
    },
    "language_info": {
      "name": "python"
    }
  },
  "cells": [
    {
      "cell_type": "markdown",
      "metadata": {
        "id": "r5pBPKqz9YrT"
      },
      "source": [
        "The correlation classifier (implemented as a function here) takes a four-dimensional array of all subjects' data for all four conditions in an ROI (subjects x voxels x time x condition). Reps are not included in this analysis - it is possible to average over all three reps or just use rep 1. \n",
        "\n",
        "\n",
        "For each subject, the function correlates a voxel by time matrix from that subject in one condition with the VxT matrix of the other averaged subjects in all conditions. The correlation with the highest value is assigned as the prediction. If the predicted condition matches the actual condition, then the outcome is correct. This is performed for all four conditions and all subjects.\n",
        "\n",
        "\n",
        "This implementation is a cross-subjects classifier, since that will be most useful in determining the utility of PCA and SRM. I expect that SRM with fewer features will perform the best in terms of improving cross-subject alignment. PCA will be used as a control for dimensionality reduction. I wouldn't be surprised if there's a ceiling effect with this analysis.\n"
      ]
    },
    {
      "cell_type": "code",
      "metadata": {
        "id": "8lOrdwpp89QU"
      },
      "source": [
        "import numpy as np\n",
        "import matplotlib.pyplot as plt"
      ],
      "execution_count": 1,
      "outputs": []
    },
    {
      "cell_type": "code",
      "metadata": {
        "id": "UxrXt-YE9JrH"
      },
      "source": [
        "def correlation_classifier(data):\n",
        "  no_subj = data.shape[0]\n",
        "  no_cond = data.shape[3]\n",
        "\n",
        "  accuracy = np.zeros((no_cond,no_subj),dtype=bool)\n",
        "\n",
        "  for s in range(no_subj):\n",
        "\n",
        "    print('subject %d'%s)\n",
        "\n",
        "    # grab the data for this loop\n",
        "    this_sub = data[s,:,:,:]\n",
        "    avg_others = np.average(data[np.arange(no_subj)[np.arange(no_subj)!=s],:,:,:],axis=0)\n",
        "\n",
        "    # for each condition\n",
        "    for i in range(no_cond):\n",
        "\n",
        "      # calculate the correlation value between this condition in this subject\n",
        "      # and each condition in the average of other subjects\n",
        "      corr_vals = np.zeros(no_cond)\n",
        "\n",
        "      for j in range(no_cond):\n",
        "\n",
        "        # grab the data for the conditions being tested\n",
        "        this_flat = this_sub[:,:,i].flatten()\n",
        "        avg_flat = avg_others[:,:,j].flatten()\n",
        "\n",
        "        corr_vals[j] = np.corrcoef(this_flat,avg_flat)[0,1]\n",
        "\n",
        "      print('accuracy for cond %d'%i)\n",
        "      print(corr_vals)\n",
        "      print(i == np.argmax(corr_vals))\n",
        "\n",
        "      # if the largest correlation is to the same condition, \n",
        "      # the prediction was correct\n",
        "      accuracy[i,s] = i == np.argmax(corr_vals)\n",
        "  \n",
        "  print()\n",
        "  print(accuracy)\n",
        "\n",
        "\n",
        "  # return accuracy as a proportion correct across subjects\n",
        "  return np.sum(accuracy, axis=1) / no_subj"
      ],
      "execution_count": 67,
      "outputs": []
    },
    {
      "cell_type": "code",
      "metadata": {
        "colab": {
          "base_uri": "https://localhost:8080/"
        },
        "id": "nK0Mi6S9GKCI",
        "outputId": "2e18f5d1-1921-421d-9011-7e2c2ef02adf"
      },
      "source": [
        "# create array of random values to test\n",
        "# let's pretend this ROI has 100 voxels\n",
        "data_rand = np.random.rand(4,100,148,4)\n",
        "#correlation_classifier(data_rand)\n",
        "acc = correlation_classifier(data_rand)\n",
        "print(acc)"
      ],
      "execution_count": 68,
      "outputs": [
        {
          "output_type": "stream",
          "name": "stdout",
          "text": [
            "subject 0\n",
            "accuracy for cond 0\n",
            "[-0.01185655  0.00244012 -0.0157324  -0.00254487]\n",
            "False\n",
            "accuracy for cond 1\n",
            "[-0.00863629 -0.0116023  -0.01357055 -0.01293949]\n",
            "False\n",
            "accuracy for cond 2\n",
            "[ 0.00439957 -0.01361287 -0.00175364  0.00118101]\n",
            "False\n",
            "accuracy for cond 3\n",
            "[-0.00939954  0.00223494  0.00185115  0.01345503]\n",
            "True\n",
            "subject 1\n",
            "accuracy for cond 0\n",
            "[-0.00537656 -0.00201241 -0.00045791  0.00277699]\n",
            "False\n",
            "accuracy for cond 1\n",
            "[ 0.00741137 -0.02542215 -0.00297121 -0.00612889]\n",
            "False\n",
            "accuracy for cond 2\n",
            "[-0.01048997 -0.00443106 -0.00180998 -0.01504596]\n",
            "True\n",
            "accuracy for cond 3\n",
            "[ 0.0043099  -0.0124473  -0.00153363 -0.00271346]\n",
            "False\n",
            "subject 2\n",
            "accuracy for cond 0\n",
            "[-0.01613284  0.00062212 -0.00726577 -0.00384666]\n",
            "False\n",
            "accuracy for cond 1\n",
            "[ 0.00040122 -0.00901823 -0.00553041  0.00282104]\n",
            "False\n",
            "accuracy for cond 2\n",
            "[-0.00861678 -0.0176909   0.00479066  0.00990832]\n",
            "False\n",
            "accuracy for cond 3\n",
            "[-0.00604576 -0.01102295  0.00033797 -0.00035788]\n",
            "False\n",
            "subject 3\n",
            "accuracy for cond 0\n",
            "[-0.00878749  0.00368313  0.00754743 -0.00839693]\n",
            "False\n",
            "accuracy for cond 1\n",
            "[ 0.00550848 -0.02094935 -0.01243732 -0.00790688]\n",
            "False\n",
            "accuracy for cond 2\n",
            "[-0.0013431   0.00075001  0.00078115  0.00209429]\n",
            "False\n",
            "accuracy for cond 3\n",
            "[-0.00098748 -0.00306119 -0.00253304  0.00740176]\n",
            "True\n",
            "\n",
            "[[False False False False]\n",
            " [False False False False]\n",
            " [False  True False False]\n",
            " [ True False False  True]]\n",
            "[0.   0.   0.25 0.5 ]\n"
          ]
        }
      ]
    },
    {
      "cell_type": "code",
      "metadata": {
        "id": "YxP1gOctXVYM"
      },
      "source": [
        ""
      ],
      "execution_count": null,
      "outputs": []
    }
  ]
}