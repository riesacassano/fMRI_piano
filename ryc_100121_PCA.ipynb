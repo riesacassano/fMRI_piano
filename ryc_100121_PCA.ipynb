{
  "nbformat": 4,
  "nbformat_minor": 0,
  "metadata": {
    "colab": {
      "name": "ryc_100121_PCA.ipynb",
      "provenance": [],
      "collapsed_sections": []
    },
    "kernelspec": {
      "name": "python3",
      "display_name": "Python 3"
    },
    "language_info": {
      "name": "python"
    }
  },
  "cells": [
    {
      "cell_type": "markdown",
      "metadata": {
        "id": "fi10ZulBDNfG"
      },
      "source": [
        "More playing with PCA. This notebook primarily uses PCA to look at differences between subjects, conditions, and runs."
      ]
    },
    {
      "cell_type": "code",
      "metadata": {
        "id": "SJorJIDODHDE"
      },
      "source": [
        "import numpy as np\n",
        "import matplotlib.pyplot as plt\n",
        "from sklearn.preprocessing import StandardScaler\n",
        "from sklearn.decomposition import PCA"
      ],
      "execution_count": 2,
      "outputs": []
    },
    {
      "cell_type": "code",
      "metadata": {
        "id": "3HPANWmsDSkZ"
      },
      "source": [
        "roi = 'A1'\n",
        "filepath = 'drive/MyDrive/fMRI_music_data/%s_by_subject_sorted_conds/'%roi\n",
        "subjects = ['03','15','20','23']\n",
        "n_sub = len(subjects)"
      ],
      "execution_count": 3,
      "outputs": []
    },
    {
      "cell_type": "code",
      "metadata": {
        "colab": {
          "base_uri": "https://localhost:8080/"
        },
        "id": "Y0PPgbhjDTED",
        "outputId": "36c3f5bb-9d96-48ba-81df-eb7dcd604214"
      },
      "source": [
        "# load in the data from all subjects\n",
        "data = []\n",
        "for subj in subjects: \n",
        "  data.append(np.load(filepath+'%s_sub-1%s.npy'%(roi,subj)))\n",
        "\n",
        "# recast the list into an array and check the shape\n",
        "data = np.asarray(data)\n",
        "print(data.shape)"
      ],
      "execution_count": 5,
      "outputs": [
        {
          "output_type": "stream",
          "name": "stdout",
          "text": [
            "(4, 516, 1776)\n"
          ]
        }
      ]
    },
    {
      "cell_type": "code",
      "metadata": {
        "colab": {
          "base_uri": "https://localhost:8080/"
        },
        "id": "sbhO9HwFDtNK",
        "outputId": "686897e2-3298-4d5e-bddb-3a27a636b415"
      },
      "source": [
        "# reshape the data into conditions and runs\n",
        "n_sub = len(subjects)\n",
        "n_voxels = data.shape[1]\n",
        "n_TRs = 148\n",
        "n_conds = 4\n",
        "n_reps = 3\n",
        "\n",
        "orig_data = np.copy(data)\n",
        "orig_data = np.reshape(orig_data,(n_sub,n_voxels,n_TRs,n_conds,n_reps),order='F')\n",
        "print(orig_data.shape)"
      ],
      "execution_count": 7,
      "outputs": [
        {
          "output_type": "stream",
          "name": "stdout",
          "text": [
            "(4, 516, 148, 4, 3)\n"
          ]
        }
      ]
    },
    {
      "cell_type": "code",
      "metadata": {
        "id": "fXqicMt8Dybv"
      },
      "source": [
        "# normalize within each run and subject\n",
        "# matrix has to be time (n_samples) x voxels (n_features)\n",
        "orig_data_norm = np.zeros_like(orig_data)\n",
        "for s in range(n_sub):\n",
        "  for c in range(n_conds):\n",
        "    for r in range(n_reps):\n",
        "      this_data_norm = StandardScaler().fit_transform(orig_data[s,:,:,c,r].T)\n",
        "      orig_data_norm[s,:,:,c,r] = this_data_norm.T"
      ],
      "execution_count": 12,
      "outputs": []
    },
    {
      "cell_type": "code",
      "metadata": {
        "colab": {
          "base_uri": "https://localhost:8080/"
        },
        "id": "h90O4yPAGuyT",
        "outputId": "6b8f4eb3-1d2f-4728-bfed-def76fb7aaab"
      },
      "source": [
        "# check a voxel\n",
        "print(np.mean(orig_data_norm[0,20,:,0,0])) # should be 0\n",
        "print(np.std(orig_data_norm[0,20,:,0,0])) # should be 1\n",
        "\n",
        "# check a time point\n",
        "print(np.mean(orig_data_norm[0,:,20,0,0])) # shouldn't be 0\n",
        "print(np.std(orig_data_norm[0,:,20,0,0])) # shouldn't be 1"
      ],
      "execution_count": 16,
      "outputs": [
        {
          "output_type": "stream",
          "name": "stdout",
          "text": [
            "-2.700542492331462e-17\n",
            "1.0\n",
            "-0.12873016131392562\n",
            "0.7968813653413711\n"
          ]
        }
      ]
    },
    {
      "cell_type": "code",
      "metadata": {
        "id": "JD8iJCBOHfAm"
      },
      "source": [
        ""
      ],
      "execution_count": null,
      "outputs": []
    }
  ]
}