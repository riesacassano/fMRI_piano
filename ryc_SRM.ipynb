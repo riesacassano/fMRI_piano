{
  "nbformat": 4,
  "nbformat_minor": 0,
  "metadata": {
    "colab": {
      "name": "ryc_SRM.ipynb",
      "provenance": [],
      "collapsed_sections": [],
      "mount_file_id": "1PylqxkpZ_Hfe139cpMVKc-oEEKOutAfL",
      "authorship_tag": "ABX9TyNsk+9RhCf4aVx25j3M7H/b",
      "include_colab_link": true
    },
    "kernelspec": {
      "name": "python3",
      "display_name": "Python 3"
    },
    "language_info": {
      "name": "python"
    }
  },
  "cells": [
    {
      "cell_type": "markdown",
      "metadata": {
        "id": "view-in-github",
        "colab_type": "text"
      },
      "source": [
        "<a href=\"https://colab.research.google.com/github/riesacassano/fMRI_piano/blob/master/ryc_SRM.ipynb\" target=\"_parent\"><img src=\"https://colab.research.google.com/assets/colab-badge.svg\" alt=\"Open In Colab\"/></a>"
      ]
    },
    {
      "cell_type": "code",
      "metadata": {
        "id": "nN2IHsWq2e9Q"
      },
      "source": [
        "!pip install brainiak"
      ],
      "execution_count": null,
      "outputs": []
    },
    {
      "cell_type": "code",
      "metadata": {
        "id": "t1iLXub9aly2"
      },
      "source": [
        "import numpy as np\n",
        "from scipy import stats\n",
        "from scipy.io import loadmat\n",
        "from brainiak.funcalign.srm import SRM\n",
        "from brainiak.isc import isc\n",
        "import matplotlib.pyplot as plt"
      ],
      "execution_count": null,
      "outputs": []
    },
    {
      "cell_type": "code",
      "metadata": {
        "id": "tz_s_l5vr_rE"
      },
      "source": [
        "no_TRs = 148\n",
        "no_conds = 4\n",
        "no_runs = 3"
      ],
      "execution_count": 5,
      "outputs": []
    },
    {
      "cell_type": "markdown",
      "metadata": {
        "id": "7ffWwEv1Z_OE"
      },
      "source": [
        "Load data for each subject in the selected ROI."
      ]
    },
    {
      "cell_type": "code",
      "metadata": {
        "id": "VdjUuIA_pBWg"
      },
      "source": [
        "roi = 'PMC' #'A1', 'MotorCortex', 'PMC'\n",
        "filepath = 'drive/MyDrive/fMRI_music_data/%s/'%roi\n",
        "sub = ['03','15','20','23']"
      ],
      "execution_count": 6,
      "outputs": []
    },
    {
      "cell_type": "code",
      "metadata": {
        "id": "Aa2br4MFSd8t"
      },
      "source": [
        "# load in the training data as a list of 2D arrays\n",
        "train_data = []\n",
        "for s in range(len(sub)):\n",
        "  train_data.append(np.load(filepath+'sub1%s_runs23.npy'%sub[s]))\n",
        "\n",
        "# load in test data as a list of 2D arrays\n",
        "test_data = []\n",
        "for s in range(len(sub)):\n",
        "  test_data.append(np.load(filepath+'sub1%s_run1.npy'%sub[s]))"
      ],
      "execution_count": 20,
      "outputs": []
    },
    {
      "cell_type": "code",
      "metadata": {
        "colab": {
          "base_uri": "https://localhost:8080/"
        },
        "id": "9UP_KjyWVGYw",
        "outputId": "933ce3b1-ff3b-4acf-a983-c575b8d9a79f"
      },
      "source": [
        "print(train_data[0].shape)\n",
        "print(test_data[0].shape)"
      ],
      "execution_count": 8,
      "outputs": [
        {
          "output_type": "stream",
          "name": "stdout",
          "text": [
            "(1573, 1184)\n",
            "(1573, 592)\n"
          ]
        }
      ]
    },
    {
      "cell_type": "code",
      "metadata": {
        "id": "S2dEhyXFZC-H"
      },
      "source": [
        "# normalize the data by subject\n",
        "for s in range(len(sub)):\n",
        "  train_data[s] = stats.zscore(train_data[s],axis=1,ddof=1) \n",
        "  # not sure why we need the DOF correction here\n",
        "  train_data[s] = np.nan_to_num(train_data[s]) # or this...\n",
        "  \n",
        "  test_data[s] = stats.zscore(test_data[s],axis=1,ddof=1)\n",
        "  test_data[s] = np.nan_to_num(test_data[s])"
      ],
      "execution_count": 9,
      "outputs": []
    },
    {
      "cell_type": "markdown",
      "metadata": {
        "id": "LYBh6OGkX0zq"
      },
      "source": [
        "Fit SRM\n",
        "\n",
        "\n",
        "(code borrowed from BrainIAK tutorial 11 - SRM)"
      ]
    },
    {
      "cell_type": "code",
      "metadata": {
        "colab": {
          "base_uri": "https://localhost:8080/"
        },
        "id": "YuDGaYwgVmSS",
        "outputId": "85b7b730-f2b0-4ccf-ae98-7bb38cd363a0"
      },
      "source": [
        "features = 30  # How many features will you fit?\n",
        "n_iter = 20  # How many iterations of fitting will you perform\n",
        "\n",
        "# Create the SRM object\n",
        "srm = SRM(n_iter=n_iter, features=features)\n",
        "\n",
        "# Fit the SRM data\n",
        "print('Fitting SRM, may take a minute ...')\n",
        "srm.fit(train_data)\n",
        "\n",
        "print('SRM has been fit')"
      ],
      "execution_count": 10,
      "outputs": [
        {
          "output_type": "stream",
          "name": "stdout",
          "text": [
            "Fitting SRM, may take a minute ...\n",
            "SRM has been fit\n"
          ]
        }
      ]
    },
    {
      "cell_type": "code",
      "metadata": {
        "id": "1v-qH8FUYFIG"
      },
      "source": [
        "s = srm.transform(test_data)"
      ],
      "execution_count": 11,
      "outputs": []
    },
    {
      "cell_type": "code",
      "metadata": {
        "colab": {
          "base_uri": "https://localhost:8080/"
        },
        "id": "ag1LJPxJYbhg",
        "outputId": "81740877-de35-4438-cf9e-bf958e6f251f"
      },
      "source": [
        "print(s[0].shape)"
      ],
      "execution_count": 12,
      "outputs": [
        {
          "output_type": "stream",
          "name": "stdout",
          "text": [
            "(30, 592)\n"
          ]
        }
      ]
    },
    {
      "cell_type": "markdown",
      "metadata": {
        "id": "UvsmeRtFahGP"
      },
      "source": [
        "SRM should improve ISC, since it brings out stimulus-related variance."
      ]
    },
    {
      "cell_type": "code",
      "metadata": {
        "colab": {
          "base_uri": "https://localhost:8080/"
        },
        "id": "ZNsynfT-b6DQ",
        "outputId": "2dbc4198-8618-4448-fb1a-d2436f3fe30e"
      },
      "source": [
        "test_data[0].shape"
      ],
      "execution_count": 75,
      "outputs": [
        {
          "output_type": "execute_result",
          "data": {
            "text/plain": [
              "(1573, 592)"
            ]
          },
          "metadata": {},
          "execution_count": 75
        }
      ]
    },
    {
      "cell_type": "code",
      "metadata": {
        "colab": {
          "base_uri": "https://localhost:8080/"
        },
        "id": "7GNSZeC6a4cP",
        "outputId": "8adc062f-c00a-42d2-a540-d9b98c254181"
      },
      "source": [
        "# Reorganize the data for run 1 of each condition (I, 8B, 2B, 1B)\n",
        "orig_data = np.zeros((len(sub),test_data[0].shape[0],no_TRs,no_conds))\n",
        "for s in range(len(test_data)):\n",
        "  orig_data[s,:,:,0] = test_data[s][:,:no_TRs] # Intact\n",
        "  orig_data[s,:,:,1] = test_data[s][:,no_TRs:no_TRs*2] # 8B\n",
        "  orig_data[s,:,:,2] = test_data[s][:,no_TRs*2:no_TRs*3] # 2B\n",
        "  orig_data[s,:,:,3] = test_data[s][:,no_TRs*3:] # 1B\n",
        "# orig_data is subjects x voxels x TRs\n",
        "# need it to be TRs x voxels x subjects for ISC computation\n",
        "orig_data_T = np.transpose(orig_data, axes=(2,1,0,3))\n",
        "print(orig_data_T.shape)\n",
        "avg_data = np.average(orig_data_T,axis=1)\n",
        "avg_data = np.reshape(avg_data,(no_TRs,1,len(sub),no_conds))\n",
        "print(avg_data.shape)\n",
        "\n",
        "orig_ISC_vals = []\n",
        "for c in range(1):#no_conds):\n",
        "  these_ISC_vals = isc(avg_data[:,:,:,c])\n",
        "  print(these_ISC_vals)\n",
        "\n",
        "\n",
        "#print(np.transpose(orig_data[:,:,:,0], axes=(2,1,0)).shape)\n",
        "\n",
        "\n",
        "\n",
        "\n",
        "#orig_ISC_vals = []\n",
        "#SRM_ISC_vals = []"
      ],
      "execution_count": 15,
      "outputs": [
        {
          "output_type": "stream",
          "name": "stdout",
          "text": [
            "(148, 1573, 4, 4)\n",
            "(148, 1, 4, 4)\n",
            "[[1.]\n",
            " [1.]\n",
            " [1.]\n",
            " [1.]]\n"
          ]
        }
      ]
    },
    {
      "cell_type": "code",
      "metadata": {
        "id": "PpCTNGJ14F24"
      },
      "source": [
        ""
      ],
      "execution_count": null,
      "outputs": []
    }
  ]
}