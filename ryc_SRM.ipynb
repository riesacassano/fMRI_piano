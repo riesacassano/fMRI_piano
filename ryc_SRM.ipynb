{
  "nbformat": 4,
  "nbformat_minor": 0,
  "metadata": {
    "colab": {
      "name": "ryc_SRM.ipynb",
      "provenance": [],
      "collapsed_sections": []
    },
    "kernelspec": {
      "name": "python3",
      "display_name": "Python 3"
    },
    "language_info": {
      "name": "python"
    }
  },
  "cells": [
    {
      "cell_type": "code",
      "metadata": {
        "id": "nN2IHsWq2e9Q",
        "colab": {
          "base_uri": "https://localhost:8080/"
        },
        "outputId": "23c5ed35-57d6-4ee4-8e8b-942e76690c72"
      },
      "source": [
        "!pip install brainiak"
      ],
      "execution_count": 1,
      "outputs": [
        {
          "output_type": "stream",
          "name": "stdout",
          "text": [
            "Collecting brainiak\n",
            "  Downloading brainiak-0.11.tar.gz (6.8 MB)\n",
            "\u001b[K     |████████████████████████████████| 6.8 MB 24.0 MB/s \n",
            "\u001b[?25h  Installing build dependencies ... \u001b[?25l\u001b[?25hdone\n",
            "  Getting requirements to build wheel ... \u001b[?25l\u001b[?25hdone\n",
            "  Installing backend dependencies ... \u001b[?25l\u001b[?25hdone\n",
            "    Preparing wheel metadata ... \u001b[?25l\u001b[?25hdone\n",
            "Requirement already satisfied: scipy!=1.0.0 in /usr/local/lib/python3.7/dist-packages (from brainiak) (1.4.1)\n",
            "Collecting nitime\n",
            "  Downloading nitime-0.9.tar.gz (6.2 MB)\n",
            "\u001b[K     |████████████████████████████████| 6.2 MB 22.1 MB/s \n",
            "\u001b[?25hRequirement already satisfied: scikit-learn[alldeps]>=0.18 in /usr/local/lib/python3.7/dist-packages (from brainiak) (0.22.2.post1)\n",
            "Requirement already satisfied: cython in /usr/local/lib/python3.7/dist-packages (from brainiak) (0.29.24)\n",
            "Collecting pybind11>=1.7\n",
            "  Using cached pybind11-2.7.1-py2.py3-none-any.whl (200 kB)\n",
            "Requirement already satisfied: nibabel in /usr/local/lib/python3.7/dist-packages (from brainiak) (3.0.2)\n",
            "Requirement already satisfied: statsmodels in /usr/local/lib/python3.7/dist-packages (from brainiak) (0.10.2)\n",
            "Collecting pymanopt\n",
            "  Downloading pymanopt-0.2.5-py3-none-any.whl (59 kB)\n",
            "\u001b[K     |████████████████████████████████| 59 kB 6.6 MB/s \n",
            "\u001b[?25hRequirement already satisfied: joblib in /usr/local/lib/python3.7/dist-packages (from brainiak) (1.0.1)\n",
            "Collecting theano>=1.0.4\n",
            "  Downloading Theano-1.0.5.tar.gz (2.8 MB)\n",
            "\u001b[K     |████████████████████████████████| 2.8 MB 53.2 MB/s \n",
            "\u001b[?25hRequirement already satisfied: numpy!=1.17.* in /usr/local/lib/python3.7/dist-packages (from brainiak) (1.19.5)\n",
            "Collecting mpi4py>=3\n",
            "  Downloading mpi4py-3.1.1.tar.gz (2.4 MB)\n",
            "\u001b[K     |████████████████████████████████| 2.4 MB 30.5 MB/s \n",
            "\u001b[?25h  Installing build dependencies ... \u001b[?25l\u001b[?25hdone\n",
            "  Getting requirements to build wheel ... \u001b[?25l\u001b[?25hdone\n",
            "    Preparing wheel metadata ... \u001b[?25l\u001b[?25hdone\n",
            "Collecting pydicom\n",
            "  Downloading pydicom-2.2.1-py3-none-any.whl (2.0 MB)\n",
            "\u001b[K     |████████████████████████████████| 2.0 MB 59.2 MB/s \n",
            "\u001b[?25hRequirement already satisfied: wheel in /usr/local/lib/python3.7/dist-packages (from brainiak) (0.37.0)\n",
            "Requirement already satisfied: psutil in /usr/local/lib/python3.7/dist-packages (from brainiak) (5.4.8)\n",
            "Requirement already satisfied: six>=1.9.0 in /usr/local/lib/python3.7/dist-packages (from theano>=1.0.4->brainiak) (1.15.0)\n",
            "Requirement already satisfied: matplotlib in /usr/local/lib/python3.7/dist-packages (from nitime->brainiak) (3.2.2)\n",
            "Requirement already satisfied: networkx in /usr/local/lib/python3.7/dist-packages (from nitime->brainiak) (2.6.2)\n",
            "Requirement already satisfied: python-dateutil>=2.1 in /usr/local/lib/python3.7/dist-packages (from matplotlib->nitime->brainiak) (2.8.2)\n",
            "Requirement already satisfied: cycler>=0.10 in /usr/local/lib/python3.7/dist-packages (from matplotlib->nitime->brainiak) (0.10.0)\n",
            "Requirement already satisfied: pyparsing!=2.0.4,!=2.1.2,!=2.1.6,>=2.0.1 in /usr/local/lib/python3.7/dist-packages (from matplotlib->nitime->brainiak) (2.4.7)\n",
            "Requirement already satisfied: kiwisolver>=1.0.1 in /usr/local/lib/python3.7/dist-packages (from matplotlib->nitime->brainiak) (1.3.1)\n",
            "Requirement already satisfied: patsy>=0.4.0 in /usr/local/lib/python3.7/dist-packages (from statsmodels->brainiak) (0.5.1)\n",
            "Requirement already satisfied: pandas>=0.19 in /usr/local/lib/python3.7/dist-packages (from statsmodels->brainiak) (1.1.5)\n",
            "Requirement already satisfied: pytz>=2017.2 in /usr/local/lib/python3.7/dist-packages (from pandas>=0.19->statsmodels->brainiak) (2018.9)\n",
            "Building wheels for collected packages: brainiak, mpi4py, theano, nitime\n",
            "  Building wheel for brainiak (PEP 517) ... \u001b[?25l\u001b[?25hdone\n",
            "  Created wheel for brainiak: filename=brainiak-0.11-cp37-cp37m-linux_x86_64.whl size=1104117 sha256=367080d67a55fc5a192d213a2be19d43b2c181a66027985ff5ccac0335fceb69\n",
            "  Stored in directory: /root/.cache/pip/wheels/9b/a1/5f/b7ac0f991e9f859ccf0f58e531343f763da84c218016adee79\n",
            "  Building wheel for mpi4py (PEP 517) ... \u001b[?25l\u001b[?25hdone\n",
            "  Created wheel for mpi4py: filename=mpi4py-3.1.1-cp37-cp37m-linux_x86_64.whl size=2180540 sha256=e937789c45dca8f5b078e006fc76fc4f948a014865533033e957c8319a4c6c3f\n",
            "  Stored in directory: /root/.cache/pip/wheels/91/be/c0/2b0347be1de5cd8ca9fe67da7ec8c3fe8930fcb6b0df6f2255\n",
            "  Building wheel for theano (setup.py) ... \u001b[?25l\u001b[?25hdone\n",
            "  Created wheel for theano: filename=Theano-1.0.5-py3-none-any.whl size=2668111 sha256=f0e55a35df5062b723adf388e1b4be7cb88f2559ecbbfb7bf847e09a6807d7db\n",
            "  Stored in directory: /root/.cache/pip/wheels/26/68/6f/745330367ce7822fe0cd863712858151f5723a0a5e322cc144\n",
            "  Building wheel for nitime (setup.py) ... \u001b[?25l\u001b[?25hdone\n",
            "  Created wheel for nitime: filename=nitime-0.9-cp37-cp37m-linux_x86_64.whl size=4032177 sha256=57a92b51102f27cac52598cbf7f4d125b57875c830248ab35a747dcd6c00ded2\n",
            "  Stored in directory: /root/.cache/pip/wheels/8e/1b/71/d7d584087121ac331c444b913abeb116b527dad2a0f1d9157a\n",
            "Successfully built brainiak mpi4py theano nitime\n",
            "Installing collected packages: theano, pymanopt, pydicom, pybind11, nitime, mpi4py, brainiak\n",
            "Successfully installed brainiak-0.11 mpi4py-3.1.1 nitime-0.9 pybind11-2.7.1 pydicom-2.2.1 pymanopt-0.2.5 theano-1.0.5\n"
          ]
        }
      ]
    },
    {
      "cell_type": "code",
      "metadata": {
        "id": "t1iLXub9aly2",
        "colab": {
          "base_uri": "https://localhost:8080/"
        },
        "outputId": "798d8b06-2d12-40f2-ee67-c3f5c2af2647"
      },
      "source": [
        "import numpy as np\n",
        "from scipy import stats\n",
        "from scipy.io import loadmat\n",
        "from brainiak.funcalign.srm import SRM\n",
        "from brainiak.isc import isc\n",
        "import matplotlib.pyplot as plt"
      ],
      "execution_count": 2,
      "outputs": [
        {
          "output_type": "stream",
          "name": "stderr",
          "text": [
            "/usr/local/lib/python3.7/dist-packages/statsmodels/tools/_testing.py:19: FutureWarning: pandas.util.testing is deprecated. Use the functions in the public API at pandas.testing instead.\n",
            "  import pandas.util.testing as tm\n"
          ]
        }
      ]
    },
    {
      "cell_type": "code",
      "metadata": {
        "id": "tz_s_l5vr_rE"
      },
      "source": [
        "no_TRs_uncropped = 148\n",
        "no_TRs = 128\n",
        "no_conds = 4\n",
        "no_runs = 3"
      ],
      "execution_count": 12,
      "outputs": []
    },
    {
      "cell_type": "markdown",
      "metadata": {
        "id": "7ffWwEv1Z_OE"
      },
      "source": [
        "Load data for each subject in the selected ROI."
      ]
    },
    {
      "cell_type": "code",
      "metadata": {
        "id": "VdjUuIA_pBWg"
      },
      "source": [
        "roi = 'PMC' #'A1', 'MotorCortex', 'PMC'\n",
        "filepath = 'drive/MyDrive/fMRI_music_data/%s/'%roi\n",
        "sub = ['03','15','20','23']"
      ],
      "execution_count": 4,
      "outputs": []
    },
    {
      "cell_type": "code",
      "metadata": {
        "id": "Aa2br4MFSd8t"
      },
      "source": [
        "# load in the training data as a list of 2D arrays\n",
        "train_data = []\n",
        "for s in range(len(sub)):\n",
        "  train_data.append(np.load(filepath+'sub1%s_runs23.npy'%sub[s]))\n",
        "\n",
        "# load in test data as a list of 2D arrays\n",
        "test_data = []\n",
        "for s in range(len(sub)):\n",
        "  test_data.append(np.load(filepath+'sub1%s_run1.npy'%sub[s]))"
      ],
      "execution_count": 5,
      "outputs": []
    },
    {
      "cell_type": "code",
      "metadata": {
        "colab": {
          "base_uri": "https://localhost:8080/"
        },
        "id": "9UP_KjyWVGYw",
        "outputId": "dc0db4bf-dcef-4a4c-c204-b4a211310367"
      },
      "source": [
        "print(train_data[0].shape)\n",
        "print(test_data[0].shape)"
      ],
      "execution_count": 6,
      "outputs": [
        {
          "output_type": "stream",
          "name": "stdout",
          "text": [
            "(1573, 1024)\n",
            "(1573, 512)\n"
          ]
        }
      ]
    },
    {
      "cell_type": "code",
      "metadata": {
        "id": "S2dEhyXFZC-H"
      },
      "source": [
        "# normalize the data by subject\n",
        "for s in range(len(sub)):\n",
        "  train_data[s] = stats.zscore(train_data[s],axis=1,ddof=1) \n",
        "  # not sure why we need the DOF correction here\n",
        "  train_data[s] = np.nan_to_num(train_data[s]) # or this...\n",
        "  \n",
        "  test_data[s] = stats.zscore(test_data[s],axis=1,ddof=1)\n",
        "  test_data[s] = np.nan_to_num(test_data[s])"
      ],
      "execution_count": 7,
      "outputs": []
    },
    {
      "cell_type": "markdown",
      "metadata": {
        "id": "LYBh6OGkX0zq"
      },
      "source": [
        "Fit SRM\n",
        "\n",
        "\n",
        "(code borrowed from BrainIAK tutorial 11 - SRM)"
      ]
    },
    {
      "cell_type": "code",
      "metadata": {
        "colab": {
          "base_uri": "https://localhost:8080/"
        },
        "id": "YuDGaYwgVmSS",
        "outputId": "f3e0acc3-0319-48d2-d3be-d3e1b9533d86"
      },
      "source": [
        "features = 30  # How many features will you fit?\n",
        "n_iter = 20  # How many iterations of fitting will you perform\n",
        "\n",
        "# Create the SRM object\n",
        "srm = SRM(n_iter=n_iter, features=features)\n",
        "\n",
        "# Fit the SRM data\n",
        "print('Fitting SRM, may take a minute ...')\n",
        "srm.fit(train_data)\n",
        "\n",
        "print('SRM has been fit')"
      ],
      "execution_count": 8,
      "outputs": [
        {
          "output_type": "stream",
          "name": "stdout",
          "text": [
            "Fitting SRM, may take a minute ...\n",
            "SRM has been fit\n"
          ]
        }
      ]
    },
    {
      "cell_type": "code",
      "metadata": {
        "id": "1v-qH8FUYFIG"
      },
      "source": [
        "srm_s = srm.transform(test_data)"
      ],
      "execution_count": 19,
      "outputs": []
    },
    {
      "cell_type": "code",
      "metadata": {
        "colab": {
          "base_uri": "https://localhost:8080/"
        },
        "id": "ag1LJPxJYbhg",
        "outputId": "3ab5d896-d928-47b7-f396-d5a9a1c47d2a"
      },
      "source": [
        "print(srm_s[0].shape)"
      ],
      "execution_count": 20,
      "outputs": [
        {
          "output_type": "stream",
          "name": "stdout",
          "text": [
            "(30, 512)\n"
          ]
        }
      ]
    },
    {
      "cell_type": "markdown",
      "metadata": {
        "id": "UvsmeRtFahGP"
      },
      "source": [
        "SRM should improve ISC, since it brings out stimulus-related variance."
      ]
    },
    {
      "cell_type": "code",
      "metadata": {
        "colab": {
          "base_uri": "https://localhost:8080/"
        },
        "id": "ZNsynfT-b6DQ",
        "outputId": "e5f7ab77-c089-4ab9-a846-3d0536a3fe06"
      },
      "source": [
        "test_data[0].shape"
      ],
      "execution_count": 11,
      "outputs": [
        {
          "output_type": "execute_result",
          "data": {
            "text/plain": [
              "(1573, 512)"
            ]
          },
          "metadata": {},
          "execution_count": 11
        }
      ]
    },
    {
      "cell_type": "code",
      "metadata": {
        "colab": {
          "base_uri": "https://localhost:8080/"
        },
        "id": "7GNSZeC6a4cP",
        "outputId": "eaa996c0-34e3-4a26-aaf8-4f089f8dfac2"
      },
      "source": [
        "# Reorganize the data for run 1 of each condition (I, 8B, 2B, 1B)\n",
        "orig_data = np.zeros((len(sub),test_data[0].shape[0],no_TRs,no_conds))\n",
        "for s in range(len(test_data)):\n",
        "  orig_data[s,:,:,0] = test_data[s][:,:no_TRs] # Intact\n",
        "  orig_data[s,:,:,1] = test_data[s][:,no_TRs:no_TRs*2] # 8B\n",
        "  orig_data[s,:,:,2] = test_data[s][:,no_TRs*2:no_TRs*3] # 2B\n",
        "  orig_data[s,:,:,3] = test_data[s][:,no_TRs*3:] # 1B\n",
        "# orig_data is subjects x voxels x TRs\n",
        "# need it to be TRs x voxels x subjects for ISC computation\n",
        "orig_data_T = np.transpose(orig_data, axes=(2,1,0,3))\n",
        "print(orig_data_T.shape)\n",
        "avg_data = np.average(orig_data_T,axis=1)\n",
        "avg_data = np.reshape(avg_data,(no_TRs,1,len(sub),no_conds))\n",
        "print(avg_data.shape)\n",
        "\n",
        "orig_avg_ISC_vals = []\n",
        "for c in range(no_conds):\n",
        "  these_ISC_vals = isc(avg_data[:,:,:,c])\n",
        "  orig_avg_ISC_vals.append(np.average(these_ISC_vals))\n",
        "print(orig_avg_ISC_vals)"
      ],
      "execution_count": 17,
      "outputs": [
        {
          "output_type": "stream",
          "name": "stdout",
          "text": [
            "(128, 1573, 4, 4)\n",
            "(128, 1, 4, 4)\n",
            "[0.2260784083114488, 0.18443645222465463, 0.07047131057506562, 0.20456073395262725]\n"
          ]
        }
      ]
    },
    {
      "cell_type": "code",
      "metadata": {
        "id": "PpCTNGJ14F24",
        "colab": {
          "base_uri": "https://localhost:8080/"
        },
        "outputId": "beb02296-0685-4754-80e0-e4bb8d38a1ff"
      },
      "source": [
        "# Reorganize SRM data for run 1 of each condition \n",
        "print(srm_s[0].shape)"
      ],
      "execution_count": 25,
      "outputs": [
        {
          "output_type": "stream",
          "name": "stdout",
          "text": [
            "(30, 512)\n"
          ]
        }
      ]
    },
    {
      "cell_type": "code",
      "metadata": {
        "colab": {
          "base_uri": "https://localhost:8080/"
        },
        "id": "IdtPeo_etTg1",
        "outputId": "38718215-d28a-4ed6-b908-889401ce04aa"
      },
      "source": [
        "srm_data = np.zeros((len(sub),srm_s[0].shape[0],no_TRs,no_conds))\n",
        "for s in range(len(srm_s)):\n",
        "  srm_data[s,:,:,0] = srm_s[s][:,:no_TRs] # Intact\n",
        "  srm_data[s,:,:,1] = srm_s[s][:,no_TRs:no_TRs*2] # 8B\n",
        "  srm_data[s,:,:,2] = srm_s[s][:,no_TRs*2:no_TRs*3] # 2B\n",
        "  srm_data[s,:,:,3] = srm_s[s][:,no_TRs*3:] # 1B\n",
        "# srm_data is subjects x voxels x TRs\n",
        "# need it to be TRs x voxels x subjects for ISC computation\n",
        "srm_data_T = np.transpose(srm_data, axes=(2,1,0,3))\n",
        "print(srm_data_T.shape)\n",
        "avg_srm_data = np.average(srm_data_T,axis=1)\n",
        "avg_srm_data = np.reshape(avg_srm_data,(no_TRs,1,len(sub),no_conds))\n",
        "print(avg_data.shape)\n",
        "\n",
        "SRM_avg_ISC_vals = []\n",
        "for c in range(no_conds):\n",
        "  these_ISC_vals = isc(avg_srm_data[:,:,:,c])\n",
        "  SRM_avg_ISC_vals.append(np.average(these_ISC_vals))\n",
        "print(SRM_avg_ISC_vals)"
      ],
      "execution_count": 28,
      "outputs": [
        {
          "output_type": "stream",
          "name": "stdout",
          "text": [
            "(128, 30, 4, 4)\n",
            "(128, 1, 4, 4)\n",
            "[0.11979694894478, 0.2126296052526679, 0.2713453958390831, 0.1866941261929634]\n"
          ]
        }
      ]
    },
    {
      "cell_type": "code",
      "metadata": {
        "colab": {
          "base_uri": "https://localhost:8080/",
          "height": 281
        },
        "id": "WvOFW0QktyQ6",
        "outputId": "96c9f029-763a-4c23-f4e5-afa520ad7941"
      },
      "source": [
        "# put it together in a plot\n",
        "fig,ax = plt.subplots(1,2,sharey=True)\n",
        "ax[0].bar([1,2,3,4], orig_avg_ISC_vals)\n",
        "ax[0].set_xticks([1,2,3,4])\n",
        "ax[0].set_xticklabels(['I','8B','2B','1B'])\n",
        "ax[0].set_title('original ISC')\n",
        "ax[0].set_ylabel('correlation')\n",
        "ax[1].bar([1,2,3,4], SRM_avg_ISC_vals)\n",
        "ax[1].set_xticks([1,2,3,4])\n",
        "ax[1].set_xticklabels(['I','8B','2B','1B'])\n",
        "ax[1].set_title('SRM ISC');"
      ],
      "execution_count": 41,
      "outputs": [
        {
          "output_type": "display_data",
          "data": {
            "image/png": "[encoded data removed]",
            "text/plain": [
              "<Figure size 432x288 with 2 Axes>"
            ]
          },
          "metadata": {
            "needs_background": "light"
          }
        }
      ]
    },
    {
      "cell_type": "markdown",
      "metadata": {
        "id": "j2iRy5PMvOtQ"
      },
      "source": [
        "It looks like SRM improves ISC in the 8B and 2B conditions, but makes it worse for the Intact and 1B conditions. Could this be related to the fact that runs 2 and 3 are used for training?"
      ]
    },
    {
      "cell_type": "code",
      "metadata": {
        "id": "PihKvRaauTU7"
      },
      "source": [
        ""
      ],
      "execution_count": null,
      "outputs": []
    }
  ]
}