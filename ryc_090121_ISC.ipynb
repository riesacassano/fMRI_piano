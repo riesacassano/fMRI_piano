{
  "nbformat": 4,
  "nbformat_minor": 0,
  "metadata": {
    "colab": {
      "name": "ryc_ISC.ipynb",
      "provenance": []
    },
    "kernelspec": {
      "name": "python3",
      "display_name": "Python 3"
    },
    "language_info": {
      "name": "python"
    }
  },
  "cells": [
    {
      "cell_type": "markdown",
      "metadata": {
        "id": "lW6zQhtnYZAV"
      },
      "source": [
        "This script computes ISC for the different conditions across different runs."
      ]
    },
    {
      "cell_type": "code",
      "metadata": {
        "id": "Xvjn1yc2b9xg"
      },
      "source": [
        "!pip install brainiak"
      ],
      "execution_count": null,
      "outputs": []
    },
    {
      "cell_type": "code",
      "metadata": {
        "colab": {
          "base_uri": "https://localhost:8080/"
        },
        "id": "UmEojxjYYC2Z",
        "outputId": "8ba06036-d0f4-4a07-cefe-cafbb8679cc7"
      },
      "source": [
        "import numpy as np\n",
        "from brainiak.isc import isc\n",
        "import matplotlib.pyplot as plt"
      ],
      "execution_count": 23,
      "outputs": [
        {
          "output_type": "stream",
          "name": "stderr",
          "text": [
            "/usr/local/lib/python3.7/dist-packages/statsmodels/tools/_testing.py:19: FutureWarning: pandas.util.testing is deprecated. Use the functions in the public API at pandas.testing instead.\n",
            "  import pandas.util.testing as tm\n"
          ]
        }
      ]
    },
    {
      "cell_type": "code",
      "metadata": {
        "id": "3LUq_Zv0Y89q"
      },
      "source": [
        "no_TRs_uncropped = 148\n",
        "no_TRs = 128\n",
        "no_conds = 4\n",
        "no_runs = 3\n",
        "subjects = ['03','15','20','23']\n",
        "\n",
        "x = [0,1,2,3]\n",
        "conds = ['I','8B','2B','1B']"
      ],
      "execution_count": 40,
      "outputs": []
    },
    {
      "cell_type": "code",
      "metadata": {
        "colab": {
          "base_uri": "https://localhost:8080/",
          "height": 417
        },
        "id": "FKpQorhFYHio",
        "outputId": "2d27b24d-7baa-49d7-9594-f8c848bae456"
      },
      "source": [
        "roi = 'A1'\n",
        "filepath = 'drive/MyDrive/fMRI_music_data/%s/'%roi\n",
        "\n",
        "# load data for all subjects from this ROI\n",
        "run1_data = []\n",
        "run2_data = []\n",
        "run3_data = []\n",
        "for s in range(len(subjects)):\n",
        "  this_sub = subjects[s]\n",
        "\n",
        "  # load run 1 data for this subject\n",
        "  run1_data.append(np.load(filepath+'sub1%s_run1.npy'%this_sub))\n",
        "\n",
        "  # load run 2 and 3 data for this subject\n",
        "  this_run23 = np.load(filepath+'sub1%s_runs23.npy'%this_sub)\n",
        "  run2_data.append(this_run23[:,:no_TRs*no_conds])\n",
        "  run3_data.append(this_run23[:,no_TRs*no_conds:])\n",
        "\n",
        "# get all data into 3D arrays\n",
        "run1 = np.asarray(run1_data)\n",
        "run2 = np.asarray(run2_data)\n",
        "run3 = np.asarray(run3_data)\n",
        "\n",
        "# average over all voxel activity\n",
        "run1_avg = np.average(run1,axis=1)\n",
        "run2_avg = np.average(run2,axis=1)\n",
        "run3_avg = np.average(run3,axis=1)\n",
        "\n",
        "# stack runs for splitting\n",
        "all_avg = np.dstack((run1_avg,run2_avg,run3_avg))\n",
        "\n",
        "# need it to be TRs x voxels x subjects for ISC computation\n",
        "all_ISC_vals = np.zeros((len(subjects),no_conds,no_runs))\n",
        "for r in range(no_runs):\n",
        "  this_run = all_avg[:,:,r]\n",
        "  this_run = np.reshape(this_run,(no_TRs*no_conds,1,len(subjects)))\n",
        "\n",
        "  # compute ISC for each condition\n",
        "  all_ISC_vals[:,0,r] = isc(this_run[:no_TRs,:,:]).flatten()\n",
        "  all_ISC_vals[:,1,r] = isc(this_run[no_TRs:2*no_TRs,:,:]).flatten()\n",
        "  all_ISC_vals[:,2,r] = isc(this_run[2*no_TRs:3*no_TRs,:,:]).flatten()\n",
        "  all_ISC_vals[:,3,r] = isc(this_run[3*no_TRs:,:,:]).flatten()\n",
        "\n",
        "# compute mean and SD of each condition and run\n",
        "avg_ISC_vals = np.zeros((no_conds,no_runs))\n",
        "sd_ISC_vals = np.zeros((no_conds,no_runs))\n",
        "for r in range(no_runs):\n",
        "  for c in range(no_conds):\n",
        "      avg_ISC_vals[c,r] = np.average(all_ISC_vals[:,c,r])\n",
        "      sd_ISC_vals[c,r] = np.std(all_ISC_vals[:,c,r])\n",
        "\n",
        "fig,ax = plt.subplots(1,3,sharey=True,figsize=(12,6))\n",
        "ax[0].set_ylabel('correlation')\n",
        "fig.suptitle('ISC in %s'%roi)\n",
        "for r in range(no_runs):\n",
        "  ax[r].bar(x,avg_ISC_vals[:,r],yerr=sd_ISC_vals[:,r])\n",
        "  ax[r].set_xticks(x)\n",
        "  ax[r].set_xticklabels(conds)\n",
        "  ax[r].set_title('run %d'%(r+1))"
      ],
      "execution_count": 45,
      "outputs": [
        {
          "output_type": "display_data",
          "data": {
            "image/png": "[encoded data removed]",
            "text/plain": [
              "<Figure size 864x432 with 3 Axes>"
            ]
          },
          "metadata": {
            "needs_background": "light"
          }
        }
      ]
    },
    {
      "cell_type": "code",
      "metadata": {
        "colab": {
          "base_uri": "https://localhost:8080/",
          "height": 417
        },
        "id": "_pGs_2D7i8Hm",
        "outputId": "f8710b3d-12c6-4129-e3c7-4726afa5a38c"
      },
      "source": [
        "roi = 'MotorCortex'\n",
        "filepath = 'drive/MyDrive/fMRI_music_data/%s/'%roi\n",
        "\n",
        "# load data for all subjects from this ROI\n",
        "run1_data = []\n",
        "run2_data = []\n",
        "run3_data = []\n",
        "for s in range(len(subjects)):\n",
        "  this_sub = subjects[s]\n",
        "\n",
        "  # load run 1 data for this subject\n",
        "  run1_data.append(np.load(filepath+'sub1%s_run1.npy'%this_sub))\n",
        "\n",
        "  # load run 2 and 3 data for this subject\n",
        "  this_run23 = np.load(filepath+'sub1%s_runs23.npy'%this_sub)\n",
        "  run2_data.append(this_run23[:,:no_TRs*no_conds])\n",
        "  run3_data.append(this_run23[:,no_TRs*no_conds:])\n",
        "\n",
        "# get all data into 3D arrays\n",
        "run1 = np.asarray(run1_data)\n",
        "run2 = np.asarray(run2_data)\n",
        "run3 = np.asarray(run3_data)\n",
        "\n",
        "# average over all voxel activity\n",
        "run1_avg = np.average(run1,axis=1)\n",
        "run2_avg = np.average(run2,axis=1)\n",
        "run3_avg = np.average(run3,axis=1)\n",
        "\n",
        "# stack runs for splitting\n",
        "all_avg = np.dstack((run1_avg,run2_avg,run3_avg))\n",
        "\n",
        "# need it to be TRs x voxels x subjects for ISC computation\n",
        "all_ISC_vals = np.zeros((len(subjects),no_conds,no_runs))\n",
        "for r in range(no_runs):\n",
        "  this_run = all_avg[:,:,r]\n",
        "  this_run = np.reshape(this_run,(no_TRs*no_conds,1,len(subjects)))\n",
        "\n",
        "  # compute ISC for each condition\n",
        "  all_ISC_vals[:,0,r] = isc(this_run[:no_TRs,:,:]).flatten()\n",
        "  all_ISC_vals[:,1,r] = isc(this_run[no_TRs:2*no_TRs,:,:]).flatten()\n",
        "  all_ISC_vals[:,2,r] = isc(this_run[2*no_TRs:3*no_TRs,:,:]).flatten()\n",
        "  all_ISC_vals[:,3,r] = isc(this_run[3*no_TRs:,:,:]).flatten()\n",
        "\n",
        "# compute mean and SD of each condition and run\n",
        "avg_ISC_vals = np.zeros((no_conds,no_runs))\n",
        "sd_ISC_vals = np.zeros((no_conds,no_runs))\n",
        "for r in range(no_runs):\n",
        "  for c in range(no_conds):\n",
        "      avg_ISC_vals[c,r] = np.average(all_ISC_vals[:,c,r])\n",
        "      sd_ISC_vals[c,r] = np.std(all_ISC_vals[:,c,r])\n",
        "\n",
        "fig,ax = plt.subplots(1,3,sharey=True,figsize=(12,6))\n",
        "ax[0].set_ylabel('correlation')\n",
        "fig.suptitle('ISC in %s'%roi)\n",
        "for r in range(no_runs):\n",
        "  ax[r].bar(x,avg_ISC_vals[:,r],yerr=sd_ISC_vals[:,r])\n",
        "  ax[r].set_xticks(x)\n",
        "  ax[r].set_xticklabels(conds)\n",
        "  ax[r].set_title('run %d'%(r+1))"
      ],
      "execution_count": 48,
      "outputs": [
        {
          "output_type": "display_data",
          "data": {
            "image/png": "[encoded data removed]",
            "text/plain": [
              "<Figure size 864x432 with 3 Axes>"
            ]
          },
          "metadata": {
            "needs_background": "light"
          }
        }
      ]
    },
    {
      "cell_type": "code",
      "metadata": {
        "colab": {
          "base_uri": "https://localhost:8080/",
          "height": 417
        },
        "id": "9Qs-LbfYZzRj",
        "outputId": "e912c9b7-f0bc-4e19-fcd2-2fe4fd169609"
      },
      "source": [
        "roi = 'PMC'\n",
        "filepath = 'drive/MyDrive/fMRI_music_data/%s/'%roi\n",
        "\n",
        "# load data for all subjects from this ROI\n",
        "run1_data = []\n",
        "run2_data = []\n",
        "run3_data = []\n",
        "for s in range(len(subjects)):\n",
        "  this_sub = subjects[s]\n",
        "\n",
        "  # load run 1 data for this subject\n",
        "  run1_data.append(np.load(filepath+'sub1%s_run1.npy'%this_sub))\n",
        "\n",
        "  # load run 2 and 3 data for this subject\n",
        "  this_run23 = np.load(filepath+'sub1%s_runs23.npy'%this_sub)\n",
        "  run2_data.append(this_run23[:,:no_TRs*no_conds])\n",
        "  run3_data.append(this_run23[:,no_TRs*no_conds:])\n",
        "\n",
        "# get all data into 3D arrays\n",
        "run1 = np.asarray(run1_data)\n",
        "run2 = np.asarray(run2_data)\n",
        "run3 = np.asarray(run3_data)\n",
        "\n",
        "# average over all voxel activity\n",
        "run1_avg = np.average(run1,axis=1)\n",
        "run2_avg = np.average(run2,axis=1)\n",
        "run3_avg = np.average(run3,axis=1)\n",
        "\n",
        "# stack runs for splitting\n",
        "all_avg = np.dstack((run1_avg,run2_avg,run3_avg))\n",
        "\n",
        "# need it to be TRs x voxels x subjects for ISC computation\n",
        "all_ISC_vals = np.zeros((len(subjects),no_conds,no_runs))\n",
        "for r in range(no_runs):\n",
        "  this_run = all_avg[:,:,r]\n",
        "  this_run = np.reshape(this_run,(no_TRs*no_conds,1,len(subjects)))\n",
        "\n",
        "  # compute ISC for each condition\n",
        "  all_ISC_vals[:,0,r] = isc(this_run[:no_TRs,:,:]).flatten()\n",
        "  all_ISC_vals[:,1,r] = isc(this_run[no_TRs:2*no_TRs,:,:]).flatten()\n",
        "  all_ISC_vals[:,2,r] = isc(this_run[2*no_TRs:3*no_TRs,:,:]).flatten()\n",
        "  all_ISC_vals[:,3,r] = isc(this_run[3*no_TRs:,:,:]).flatten()\n",
        "\n",
        "# compute mean and SD of each condition and run\n",
        "avg_ISC_vals = np.zeros((no_conds,no_runs))\n",
        "sd_ISC_vals = np.zeros((no_conds,no_runs))\n",
        "for r in range(no_runs):\n",
        "  for c in range(no_conds):\n",
        "      avg_ISC_vals[c,r] = np.average(all_ISC_vals[:,c,r])\n",
        "      sd_ISC_vals[c,r] = np.std(all_ISC_vals[:,c,r])\n",
        "\n",
        "fig,ax = plt.subplots(1,3,sharey=True,figsize=(12,6))\n",
        "ax[0].set_ylabel('correlation')\n",
        "fig.suptitle('ISC in %s'%roi)\n",
        "for r in range(no_runs):\n",
        "  ax[r].bar(x,avg_ISC_vals[:,r],yerr=sd_ISC_vals[:,r])\n",
        "  ax[r].set_xticks(x)\n",
        "  ax[r].set_xticklabels(conds)\n",
        "  ax[r].set_title('run %d'%(r+1))"
      ],
      "execution_count": 47,
      "outputs": [
        {
          "output_type": "display_data",
          "data": {
            "image/png": "[encoded data removed]",
            "text/plain": [
              "<Figure size 864x432 with 3 Axes>"
            ]
          },
          "metadata": {
            "needs_background": "light"
          }
        }
      ]
    },
    {
      "cell_type": "code",
      "metadata": {
        "id": "UA9XhQeOijPo"
      },
      "source": [
        ""
      ],
      "execution_count": null,
      "outputs": []
    }
  ]
}