{
 "cells": [
  {
   "cell_type": "markdown",
   "metadata": {},
   "source": [
    "This notebook was copied from `../Princeton/analysis/5_spring_thesis_analysis/1_temporal_ISC/ryc_temporal_ISC_figures.ipynb`. Data was copied from `../Princeton/analysis/5_spring_thesis_analysis/brain_data/byROI/` to make running this notebook a little easier. This notebook did generate the figures used for senior thesis Specific Aim 1 (temporal ISC).\n",
    "\n",
    "Updated versions of these plots are generated for the NeuroMusic poster (11/20/21).\n",
    "\n",
    "Style changes (11/12/21): reversed conditions. Removed supertitle, made y-axis label more descriptive. Made titles more descriptive. Increased font size."
   ]
  },
  {
   "cell_type": "code",
   "execution_count": 1,
   "metadata": {},
   "outputs": [],
   "source": [
    "import numpy as np\n",
    "import scipy.stats as stats\n",
    "import matplotlib.pyplot as plt\n",
    "import pandas as pd"
   ]
  },
  {
   "cell_type": "code",
   "execution_count": 2,
   "metadata": {},
   "outputs": [],
   "source": [
    "brain_data_filepath = '../data/byROI/' # then rep, cond, subject_pool, ROI.npy\n",
    "output_filepath = '../figures/temporal_ISC/'"
   ]
  },
  {
   "cell_type": "markdown",
   "metadata": {},
   "source": [
    "Define the phase-scramble function: "
   ]
  },
  {
   "cell_type": "code",
   "execution_count": 3,
   "metadata": {},
   "outputs": [],
   "source": [
    "def phase_scramble(tc, permutation=1):\n",
    "    \"\"\"\n",
    "    Phase scramble a single time course.\n",
    "    \n",
    "    Steps\n",
    "    1. Run fast Fourier transform (FFT) on time course.\n",
    "    2. Phase randomization - shuffle the phases of the output of FFT. (Details borrowed from CJ \n",
    "    Honey's \"phase_scramble_time_series.m\")\n",
    "    3. Invert the phase-randomized Fourier transform and return the phase-scrambled time course\n",
    "    \n",
    "    Arguments\n",
    "    - tc (array): time course to be phase-scrambled\n",
    "    - permutation (1 or 0): if 1 perform phase permutation (default), if 0 generate random phases\n",
    "    \n",
    "    Returns\n",
    "    - tc_scrambled (array): phase-scrambled time course\n",
    "    \"\"\"\n",
    "    no_TRs = np.size(tc)\n",
    "    \n",
    "    # run fast Fourier transform\n",
    "    fft = np.fft.fft(tc)\n",
    "   \n",
    "    # identify indices of positive and negative frequences to symmetrize\n",
    "    if no_TRs % 2 == 0:\n",
    "        posfreqs = np.arange(1,int(no_TRs/2))\n",
    "        negfreqs = np.arange((no_TRs-1),int(no_TRs/2),step=-1)\n",
    "    else:\n",
    "        posfreqs = np.arange(1,int((no_TRs+1)/2))\n",
    "        negfreqs = np.arange(no_TRs, int((no_TRs-1)/2),step=-1)\n",
    "        \n",
    "    # get amplitude and phases of Fourier components\n",
    "    x_amp = abs(fft)\n",
    "    x_phase = np.arctan2(fft.imag, fft.real)\n",
    "    \n",
    "    # create array of zeros that will contain symmetrized randomized phases\n",
    "    sym_phase = np.zeros(no_TRs)\n",
    "        \n",
    "    # either permute or generate random values\n",
    "    new_phase = np.zeros_like(posfreqs)\n",
    "    if permutation:\n",
    "        shuffle = np.random.permutation(np.arange(no_TRs))\n",
    "        for i in range(np.size(new_phase)):\n",
    "            new_phase[i] = x_phase[shuffle[i]]\n",
    "    else:\n",
    "        new_phase = 2*np.pi*np.random.rand(np.size(posfreqs))\n",
    "        \n",
    "    # put those new phases in\n",
    "    sym_phase[posfreqs] = new_phase\n",
    "    sym_phase[negfreqs] = -sym_phase[posfreqs]\n",
    "       \n",
    "    # put the Fourier transform back together\n",
    "    new_fft = np.zeros_like(fft)\n",
    "    for i in range(np.size(new_fft)):\n",
    "        new_fft[i] = complex(x_amp[i]*np.cos(sym_phase[i]),x_amp[i]*np.sin(sym_phase[i]))\n",
    "    \n",
    "    # invert and return\n",
    "    tc_scrambled = np.fft.ifft(new_fft)\n",
    "    return tc_scrambled.real"
   ]
  },
  {
   "cell_type": "code",
   "execution_count": 4,
   "metadata": {},
   "outputs": [],
   "source": [
    "# set parameters\n",
    "subject_pool = 'AM'\n",
    "subj = np.arange(4) # need this array for ISC calculations\n",
    "\n",
    "ROIs = ['A1', 'MotorCortex', 'PMC'] \n",
    "ROI_titles = ['primary auditory cortex (A1)', 'motor cortex', 'posterior medial cortex (PMC)']\n",
    "figsize=(15,5)\n",
    "\n",
    "rep = 'rep1'\n",
    "conds = ['I','8B','2B','1B']\n",
    "xc = np.arange(len(conds)) # for plotting\n",
    "\n",
    "crop = 10\n",
    "\n",
    "samples_phase_scr = 1000\n",
    "samples_label_shuf = 1000"
   ]
  },
  {
   "cell_type": "code",
   "execution_count": 5,
   "metadata": {},
   "outputs": [],
   "source": [
    "# we'll save true_ISC_vals and p_vals outside the ROI loop to save later\n",
    "true_ISC_vals = np.zeros((len(subj),len(conds),len(ROIs))) # dim 0: subjects, dim 1: condition, dim 2: ROI\n",
    "p_chance = np.zeros((len(conds),len(ROIs)))\n",
    "p_comps = np.zeros((len(conds)-1,len(ROIs)))\n",
    "\n",
    "\n",
    "# for each ROI, compute true ISC values and run statistical tests\n",
    "for r in range(len(ROIs)):\n",
    "    roi = ROIs[r]\n",
    "    \n",
    "    # load data from all conditions and put in big matrix\n",
    "    data = np.zeros((len(subj),148,len(conds))) # dim 0: subjects, dim 1: TRs, dim 2: cond\n",
    "    for c in range(len(conds)):\n",
    "        data[:,:,c] = np.load(brain_data_filepath+'%s/%s/%s/%s.npy'%(rep,conds[c],subject_pool,roi))\n",
    "        \n",
    "    # crop the data\n",
    "    data = data[:,crop:-crop,:]\n",
    "        \n",
    "    # calculate true ISC values\n",
    "    for c in range(len(conds)):\n",
    "        for s in range(len(subj)):\n",
    "            this_subj = data[s,:,c]\n",
    "            avg_others = np.mean(data[subj[subj!=s],:,c],axis=0)\n",
    "            true_ISC_vals[s,c,r] = np.corrcoef(this_subj, avg_others)[0,1]\n",
    "        \n",
    "    # run bootstrap test with phase scrambling\n",
    "    # to determine if average ISC in each condition is above chance\n",
    "    \n",
    "    # phase-scramble function is copied above from winter_thesis_analysis/ISC/ROI_analysis/ryc_ISC.ipynb\n",
    "    for c in range(len(conds)):\n",
    "        null_vals = np.zeros((len(subj),samples_phase_scr))\n",
    "        for i in range(samples_phase_scr):\n",
    "            for s in range(len(subj)):\n",
    "                this_subj_PS = phase_scramble(data[s,:,c])\n",
    "                avg_others = np.mean(data[subj[subj!=s],:,c],axis=0)\n",
    "                null_vals[s,i] = np.corrcoef(this_subj_PS, avg_others)[0,1]\n",
    "    \n",
    "        # average over ISC values for all subjects to get null statistics\n",
    "        avg_null_ISC = np.mean(null_vals,axis=0)\n",
    "        \n",
    "        # compare actual average ISC values to null distribution and save in the p_vals matrix outside the ROI loop\n",
    "        z = (np.mean(true_ISC_vals[:,c,r]) - np.mean(avg_null_ISC)) / np.std(avg_null_ISC)\n",
    "        p_chance[c,r] = stats.norm.pdf(z)\n",
    "\n",
    "        \n",
    "    # run bootstrap test with label shuffling\n",
    "    # to determine if average ISC is significantly different between Intact and scrambled conditions\n",
    "    # code adapted from ryc_ISC_contrasts.py\n",
    "    \n",
    "    # compute true contrasts\n",
    "    true_comps = np.zeros(3) # three comparisons will be made\n",
    "    true_comps[0] = np.mean(true_ISC_vals[:,0,r]) - np.mean(true_ISC_vals[:,1,r]) # I to 8B contrast\n",
    "    true_comps[1] = np.mean(true_ISC_vals[:,0,r]) - np.mean(true_ISC_vals[:,2,r]) # I to 2B contrast\n",
    "    true_comps[2] = np.mean(true_ISC_vals[:,0,r]) - np.mean(true_ISC_vals[:,3,r]) # I to 1B contrast\n",
    "    \n",
    "    # create places to put null distributions\n",
    "    comp1 = [] \n",
    "    comp2 = [] \n",
    "    comp3 = [] \n",
    "    \n",
    "    for i in range(samples_label_shuf):\n",
    "        \n",
    "        # shuffle condition labels for each subject\n",
    "        these_vals = np.zeros((len(subj),len(conds)))\n",
    "        for s in range(len(subj)):\n",
    "            these_vals[s,:] = np.random.permutation(true_ISC_vals[s,:,r])\n",
    "        \n",
    "        # calculate the contrasts and add to the null distributions\n",
    "        comp1.append(np.mean(these_vals[:,0]) - np.mean(these_vals[:,1])) # I to 8B contrast\n",
    "        comp2.append(np.mean(these_vals[:,0]) - np.mean(these_vals[:,2])) # I to 2B contrast\n",
    "        comp3.append(np.mean(these_vals[:,0]) - np.mean(these_vals[:,3])) # I to 1B contrast     \n",
    "    \n",
    "    # calculate the p-values of the true comparisons against the null distributions and plot\n",
    "    max_ISC = np.max(true_ISC_vals[:,:,r])\n",
    "    \n",
    "    z = (true_comps[0] - np.mean(comp1)) / np.std(comp1)\n",
    "    p_comps[0,r] = stats.norm.pdf(z)  \n",
    "    \n",
    "    z = (true_comps[1] - np.mean(comp2)) / np.std(comp2)\n",
    "    p_comps[1,r] = stats.norm.pdf(z)\n",
    "\n",
    "    z = (true_comps[2] - np.mean(comp3)) / np.std(comp3)\n",
    "    p_comps[2,r] = stats.norm.pdf(z)"
   ]
  },
  {
   "cell_type": "code",
   "execution_count": 21,
   "metadata": {},
   "outputs": [],
   "source": [
    "true_ISC_vals_orig = np.copy(true_ISC_vals)\n",
    "p_chance_orig = np.copy(p_chance)\n",
    "p_comps_orig = np.copy(p_comps)"
   ]
  },
  {
   "cell_type": "code",
   "execution_count": 14,
   "metadata": {},
   "outputs": [
    {
     "name": "stdout",
     "output_type": "stream",
     "text": [
      "[[0.44394867 0.19615758 0.33126194 0.11726256]\n",
      " [0.31317042 0.30744466 0.23240103 0.01058188]\n",
      " [0.48399131 0.19946635 0.29506168 0.15238935]\n",
      " [0.32248751 0.49547946 0.29796476 0.274171  ]]\n"
     ]
    }
   ],
   "source": [
    "print(true_ISC_vals_orig[:,:,0])"
   ]
  },
  {
   "cell_type": "code",
   "execution_count": 17,
   "metadata": {},
   "outputs": [
    {
     "name": "stdout",
     "output_type": "stream",
     "text": [
      "[[0.11726256 0.33126194 0.19615758 0.44394867]\n",
      " [0.01058188 0.23240103 0.30744466 0.31317042]\n",
      " [0.15238935 0.29506168 0.19946635 0.48399131]\n",
      " [0.274171   0.29796476 0.49547946 0.32248751]]\n"
     ]
    }
   ],
   "source": [
    "# swap the conditions\n",
    "conds = ['1B','2B','8B','I']"
   ]
  },
  {
   "cell_type": "code",
   "execution_count": 17,
   "metadata": {},
   "outputs": [],
   "source": [
    "# move the columns\n",
    "true_ISC_vals[:,[3,2,1,0],:] = true_ISC_vals_orig[:,[0,1,2,3],:]\n",
    "print(true_ISC_vals[:,:,0])"
   ]
  },
  {
   "cell_type": "code",
   "execution_count": 22,
   "metadata": {},
   "outputs": [
    {
     "name": "stdout",
     "output_type": "stream",
     "text": [
      "[[5.27742120e-04 3.92937485e-01 5.43088971e-05]\n",
      " [1.80806503e-08 3.37308653e-04 3.21500043e-01]\n",
      " [2.89039420e-04 1.33797065e-07 5.09708514e-03]\n",
      " [1.54824039e-06 2.13387541e-09 1.37518683e-03]]\n"
     ]
    }
   ],
   "source": [
    "p_chance[[3,2,1,0],:] = p_chance_orig\n",
    "print(p_chance)"
   ]
  },
  {
   "cell_type": "code",
   "execution_count": 24,
   "metadata": {},
   "outputs": [
    {
     "name": "stdout",
     "output_type": "stream",
     "text": [
      "[[0.01245563 0.00334199 0.39814295]\n",
      " [0.22154301 0.12052572 0.06217517]\n",
      " [0.24840399 0.3579172  0.31091551]]\n"
     ]
    }
   ],
   "source": [
    "p_comps[[2,1,0],:] = p_comps_orig\n",
    "print(p_comps)"
   ]
  },
  {
   "cell_type": "code",
   "execution_count": 34,
   "metadata": {},
   "outputs": [
    {
     "data": {
      "image/png": "[encoded data removed]",
      "text/plain": [
       "<Figure size 1080x360 with 3 Axes>"
      ]
     },
     "metadata": {
      "needs_background": "light"
     },
     "output_type": "display_data"
    }
   ],
   "source": [
    "# plot A1, Motor cortex, and PMC together\n",
    "# create the figure\n",
    "fig, ax = plt.subplots(1,3,figsize=(15,5),sharey=True)\n",
    "#fig.suptitle('ISC values in rep 1')\n",
    "ax[0].set_ylabel('intersubject temporal correlation',fontsize='x-large')\n",
    "\n",
    "for r in range(len(ROIs)):\n",
    "    #roi = ROIs[r]\n",
    "    ax[r].set_title(ROI_titles[r],fontsize='xx-large')\n",
    "    \n",
    "    # plot the true ISC values as scatter plot\n",
    "    ax[r].set_xlabel('condition',fontsize='x-large')\n",
    "    ax[r].set_xticks(xc)\n",
    "    ax[r].set_xticklabels(conds,fontsize='large')\n",
    "    for c in range(len(conds)):\n",
    "        ax[r].scatter(np.full(subj.shape,xc[c]),true_ISC_vals[:,c,r],color='black')\n",
    "        \n",
    "        # plot the mean ISC value as a horizontal line\n",
    "        #ax[r].hlines(np.mean(true_ISC_vals[:,c,r]),xc[c]-0.2,xc[c]+0.2,color='gray')\n",
    "\n",
    "        # plot as green asterisk(s) if above chance\n",
    "        p = p_chance[c,r]\n",
    "        if p < 0.001: ax[r].text(xc[c],np.max(true_ISC_vals[:,c,r])+0.02,\n",
    "                                 '***',ha='center',va='bottom',fontsize=14)#,color='green')\n",
    "        elif p < 0.01: ax[r].text(xc[c],np.max(true_ISC_vals[:,c,r])+0.02,\n",
    "                                 '**',ha='center',va='bottom',fontsize=14)#,color='green')\n",
    "        elif p < 0.05: ax[r].text(xc[c],np.max(true_ISC_vals[:,c,r])+0.02,\n",
    "                                 '*',ha='center',va='bottom',fontsize=14)#,color='green')\n",
    "    \n",
    "    # plot lines connecting each subjects' ISC values\n",
    "    for s in subj:\n",
    "        ax[r].plot(true_ISC_vals[s,:,r],color='gray',linestyle='dashed',alpha=0.5)\n",
    "    \n",
    "    # find max for this ROI\n",
    "    max_ISC = np.max(true_ISC_vals[:,:,r])\n",
    "    \n",
    "    # plot lines\n",
    "    ax[r].hlines(max_ISC+0.1,2,3,linewidth=0.7)#,color='blue')\n",
    "    ax[r].hlines(max_ISC+0.15,1,3,linewidth=0.7)#,color='blue')\n",
    "    ax[r].hlines(max_ISC+0.2,0,3,linewidth=0.7)#,color='blue')\n",
    "    \n",
    "    p = p_comps[0,r] # now I to 1B\n",
    "    if p <= 0.001: ax[r].text(1.5,max_ISC+0.201,'***',ha='center',va='bottom',fontsize=10)#,color='blue')\n",
    "    elif p <= 0.01: ax[r].text(1.5,max_ISC+0.201,'**',ha='center',va='bottom',fontsize=10)#,color='blue')\n",
    "    elif p <= 0.05: ax[r].text(1.5,max_ISC+0.201,'*',ha='center',va='bottom',fontsize=10)#,color='blue')\n",
    "    else: ax[r].text(1.5,max_ISC+0.201,'ns',ha='center',va='bottom',fontsize=10)#,color='blue')\n",
    "    \n",
    "    p = p_comps[1,r] # I to 2B\n",
    "    if p <= 0.001: ax[r].text(2,max_ISC+0.151,'***',ha='center',va='bottom',fontsize=10)#,color='blue')\n",
    "    elif p <= 0.01: ax[r].text(2,max_ISC+0.151,'**',ha='center',va='bottom',fontsize=10)#,color='blue')\n",
    "    elif p <= 0.05: ax[r].text(2,max_ISC+0.151,'*',ha='center',va='bottom',fontsize=10)#,color='blue')\n",
    "    else: ax[r].text(2,max_ISC+0.151,'ns',ha='center',va='bottom',fontsize=10)#,color='blue')\n",
    "\n",
    "    p = p_comps[2,r] # now I to 8B\n",
    "    if p <= 0.001: ax[r].text(2.5,max_ISC+0.101,'***',ha='center',va='bottom',fontsize=10)#,color='blue')\n",
    "    elif p <= 0.01: ax[r].text(2.5,max_ISC+0.101,'**',ha='center',va='bottom',fontsize=10)#,color='blue')\n",
    "    elif p <= 0.05: ax[r].text(2.5,max_ISC+0.101,'*',ha='center',va='bottom',fontsize=10)#,color='blue')\n",
    "    else: ax[r].text(2.5,max_ISC+0.101,'ns',ha='center',va='bottom',fontsize=10)#,color='blue')\n",
    "    \n",
    "    \n",
    "# set y limits that make sense with the significance markers\n",
    "ax[0].set_ylim(top=np.max(true_ISC_vals)+0.25);\n",
    "\n",
    "#plt.show()\n",
    "#plt.savefig(output_filepath+'A1_MC_PMC_crop%d_PS%d_LS%d'%(crop,samples_phase_scr,samples_label_shuf),dpi=300) \n",
    "plt.savefig(output_filepath+'A1_MC_PMC_crop%d_PS%d_LS%d-indsubj-bw'%(crop,samples_phase_scr,samples_label_shuf),dpi=300)   "
   ]
  },
  {
   "cell_type": "code",
   "execution_count": null,
   "metadata": {},
   "outputs": [],
   "source": []
  }
 ],
 "metadata": {
  "kernelspec": {
   "display_name": "Python 3",
   "language": "python",
   "name": "python3"
  },
  "language_info": {
   "codemirror_mode": {
    "name": "ipython",
    "version": 3
   },
   "file_extension": ".py",
   "mimetype": "text/x-python",
   "name": "python",
   "nbconvert_exporter": "python",
   "pygments_lexer": "ipython3",
   "version": "3.7.4"
  }
 },
 "nbformat": 4,
 "nbformat_minor": 4
}
