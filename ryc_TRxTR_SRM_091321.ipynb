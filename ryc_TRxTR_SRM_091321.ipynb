{
  "nbformat": 4,
  "nbformat_minor": 0,
  "metadata": {
    "colab": {
      "name": "ryc_TRxTR-SRM_091321.ipynb",
      "provenance": [],
      "collapsed_sections": []
    },
    "kernelspec": {
      "name": "python3",
      "display_name": "Python 3"
    },
    "language_info": {
      "name": "python"
    }
  },
  "cells": [
    {
      "cell_type": "code",
      "metadata": {
        "id": "HeJyKvUWb41H"
      },
      "source": [
        "!pip install brainiak"
      ],
      "execution_count": null,
      "outputs": []
    },
    {
      "cell_type": "code",
      "metadata": {
        "id": "WWOYxM4kb-z6"
      },
      "source": [
        "import numpy as np\n",
        "from scipy import stats\n",
        "import matplotlib.pyplot as plt\n",
        "#from brainiak.funcalign.srm import SRM\n",
        "#from brainiak.isc import isc"
      ],
      "execution_count": 1,
      "outputs": []
    },
    {
      "cell_type": "code",
      "metadata": {
        "id": "X6x3CQ-WcAKA"
      },
      "source": [
        "roi = 'A1'\n",
        "filepath = 'drive/MyDrive/fMRI_music_data/%s_by_subject_sorted_conds/'%roi\n",
        "subjects = ['03','15','20','23']\n",
        "n_sub = len(subjects)"
      ],
      "execution_count": 10,
      "outputs": []
    },
    {
      "cell_type": "code",
      "metadata": {
        "colab": {
          "base_uri": "https://localhost:8080/"
        },
        "id": "eyOiiEPjlhOG",
        "outputId": "723c78a4-b556-450e-dea1-5dc6e6d63d3e"
      },
      "source": [
        "# load data from one subject for a quick sanity check\n",
        "this_subj = subjects[0]\n",
        "test = np.load(filepath+'%s_sub-1%s.npy'%(roi,this_subj))\n",
        "print(test.shape)"
      ],
      "execution_count": 7,
      "outputs": [
        {
          "output_type": "stream",
          "name": "stdout",
          "text": [
            "(516, 1776)\n"
          ]
        }
      ]
    },
    {
      "cell_type": "markdown",
      "metadata": {
        "id": "f6RTWk3AmYL-"
      },
      "source": [
        "There are 516 voxels in A1. There are 1776 total time points: 148 TRs per run * 12 runs."
      ]
    },
    {
      "cell_type": "code",
      "metadata": {
        "colab": {
          "base_uri": "https://localhost:8080/"
        },
        "id": "kJz5QrRxmUlW",
        "outputId": "1eba9cb3-9871-46bd-a4fe-1272cd38dd76"
      },
      "source": [
        "# load in the data from all subjects\n",
        "data = []\n",
        "for subj in subjects: \n",
        "  data.append(np.load(filepath+'%s_sub-1%s.npy'%(roi,this_subj)))\n",
        "\n",
        "# recast the list into an array and check the shape\n",
        "data = np.asarray(data)\n",
        "print(data.shape)"
      ],
      "execution_count": 9,
      "outputs": [
        {
          "output_type": "stream",
          "name": "stdout",
          "text": [
            "(4, 516, 1776)\n"
          ]
        }
      ]
    },
    {
      "cell_type": "markdown",
      "metadata": {
        "id": "YXufDF4dnGxW"
      },
      "source": [
        "Reshape the data so that it's subjects x voxels x TRs x conds x runs. This gives flexibility to select training and testing data for SRM later."
      ]
    },
    {
      "cell_type": "code",
      "metadata": {
        "id": "fp65a7ktmv3B"
      },
      "source": [
        "n_voxels = data.shape[1]\n",
        "n_TRs = 148\n",
        "n_conds = 4\n",
        "n_runs = 3\n",
        "\n",
        "orig_data = np.copy(data)\n",
        "orig_data = np.reshape(orig_data,(n_sub,n_voxels,n_TRs*n_conds))"
      ],
      "execution_count": null,
      "outputs": []
    },
    {
      "cell_type": "code",
      "metadata": {
        "colab": {
          "base_uri": "https://localhost:8080/",
          "height": 284
        },
        "id": "al3o8PiNqX4a",
        "outputId": "8aaeb125-76c4-4285-bf88-9bacafbc3b68"
      },
      "source": [
        "toy = np.arange(45)\n",
        "toy = np.reshape(toy,(45,1))\n",
        "plt.imshow(toy)"
      ],
      "execution_count": 22,
      "outputs": [
        {
          "output_type": "execute_result",
          "data": {
            "text/plain": [
              "<matplotlib.image.AxesImage at 0x7f3261366210>"
            ]
          },
          "metadata": {},
          "execution_count": 22
        },
        {
          "output_type": "display_data",
          "data": {
            "image/png": "[encoded data removed]",
            "text/plain": [
              "<Figure size 432x288 with 1 Axes>"
            ]
          },
          "metadata": {
            "needs_background": "light"
          }
        }
      ]
    },
    {
      "cell_type": "code",
      "metadata": {
        "colab": {
          "base_uri": "https://localhost:8080/",
          "height": 282
        },
        "id": "V9AQyHx4qaaz",
        "outputId": "bd929d6a-4e79-4b8b-9709-a951dc4c0de8"
      },
      "source": [
        "toy_re = np.reshape(toy,(15,3),order='F')\n",
        "plt.imshow(toy_re)"
      ],
      "execution_count": 25,
      "outputs": [
        {
          "output_type": "execute_result",
          "data": {
            "text/plain": [
              "<matplotlib.image.AxesImage at 0x7f3261263610>"
            ]
          },
          "metadata": {},
          "execution_count": 25
        },
        {
          "output_type": "display_data",
          "data": {
            "image/png": "[encoded data removed]",
            "text/plain": [
              "<Figure size 432x288 with 1 Axes>"
            ]
          },
          "metadata": {
            "needs_background": "light"
          }
        }
      ]
    },
    {
      "cell_type": "code",
      "metadata": {
        "colab": {
          "base_uri": "https://localhost:8080/",
          "height": 171
        },
        "id": "zOd4aScDqyLY",
        "outputId": "c5faecba-eee1-48ad-f2b9-5c0a6aadbaab"
      },
      "source": [
        "# this toy example has 5 TRs, 4 conditions, and 3 runs\n",
        "toy = np.arange(60)\n",
        "toy_re1 = np.reshape(toy, (5,4,3), order='F')\n",
        "\n",
        "fig,ax = plt.subplots(1,3)\n",
        "for i in range(3):\n",
        "  ax[i].imshow(toy_re1[:,:,i], vmin=0,vmax=59)"
      ],
      "execution_count": 30,
      "outputs": [
        {
          "output_type": "display_data",
          "data": {
            "image/png": "[encoded data removed]",
            "text/plain": [
              "<Figure size 432x288 with 3 Axes>"
            ]
          },
          "metadata": {
            "needs_background": "light"
          }
        }
      ]
    },
    {
      "cell_type": "code",
      "metadata": {
        "colab": {
          "base_uri": "https://localhost:8080/"
        },
        "id": "ubDlst6CrvN_",
        "outputId": "517d8a77-1e62-48d5-8e57-cbc32eb4e734"
      },
      "source": [
        "print(toy_re1)"
      ],
      "execution_count": 31,
      "outputs": [
        {
          "output_type": "stream",
          "name": "stdout",
          "text": [
            "[[[ 0 20 40]\n",
            "  [ 5 25 45]\n",
            "  [10 30 50]\n",
            "  [15 35 55]]\n",
            "\n",
            " [[ 1 21 41]\n",
            "  [ 6 26 46]\n",
            "  [11 31 51]\n",
            "  [16 36 56]]\n",
            "\n",
            " [[ 2 22 42]\n",
            "  [ 7 27 47]\n",
            "  [12 32 52]\n",
            "  [17 37 57]]\n",
            "\n",
            " [[ 3 23 43]\n",
            "  [ 8 28 48]\n",
            "  [13 33 53]\n",
            "  [18 38 58]]\n",
            "\n",
            " [[ 4 24 44]\n",
            "  [ 9 29 49]\n",
            "  [14 34 54]\n",
            "  [19 39 59]]]\n"
          ]
        }
      ]
    },
    {
      "cell_type": "code",
      "metadata": {
        "colab": {
          "base_uri": "https://localhost:8080/"
        },
        "id": "M3ZcXdpor-iZ",
        "outputId": "8b6b6cfd-0661-459c-adc3-f7f25f100372"
      },
      "source": [
        "print(toy_re1.shape)"
      ],
      "execution_count": 33,
      "outputs": [
        {
          "output_type": "stream",
          "name": "stdout",
          "text": [
            "(5, 4, 3)\n"
          ]
        }
      ]
    },
    {
      "cell_type": "markdown",
      "metadata": {
        "id": "XB40h-AEsObh"
      },
      "source": [
        "This is confusing because the first dimension acts like z in the printed array."
      ]
    },
    {
      "cell_type": "code",
      "metadata": {
        "id": "AaR_ldmcsiVJ"
      },
      "source": [
        ""
      ],
      "execution_count": null,
      "outputs": []
    }
  ]
}