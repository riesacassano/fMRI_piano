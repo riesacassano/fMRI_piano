{
  "nbformat": 4,
  "nbformat_minor": 0,
  "metadata": {
    "colab": {
      "name": "ryc_TRxTR-SRM_091321.ipynb",
      "provenance": [],
      "collapsed_sections": []
    },
    "kernelspec": {
      "name": "python3",
      "display_name": "Python 3"
    },
    "language_info": {
      "name": "python"
    }
  },
  "cells": [
    {
      "cell_type": "code",
      "metadata": {
        "id": "HeJyKvUWb41H"
      },
      "source": [
        "!pip install brainiak"
      ],
      "execution_count": null,
      "outputs": []
    },
    {
      "cell_type": "code",
      "metadata": {
        "id": "WWOYxM4kb-z6",
        "colab": {
          "base_uri": "https://localhost:8080/"
        },
        "outputId": "05552ab0-f15a-4c84-fb6a-abb75ccfd91f"
      },
      "source": [
        "import numpy as np\n",
        "from scipy import stats\n",
        "import matplotlib.pyplot as plt\n",
        "from brainiak.funcalign.srm import SRM\n",
        "from brainiak.isc import isc"
      ],
      "execution_count": null,
      "outputs": [
        {
          "output_type": "stream",
          "name": "stderr",
          "text": [
            "/usr/local/lib/python3.7/dist-packages/statsmodels/tools/_testing.py:19: FutureWarning: pandas.util.testing is deprecated. Use the functions in the public API at pandas.testing instead.\n",
            "  import pandas.util.testing as tm\n"
          ]
        }
      ]
    },
    {
      "cell_type": "code",
      "metadata": {
        "id": "X6x3CQ-WcAKA"
      },
      "source": [
        "roi = 'A1'\n",
        "filepath = 'drive/MyDrive/fMRI_music_data/%s_by_subject_sorted_conds/'%roi\n",
        "subjects = ['03','15','20','23']\n",
        "n_sub = len(subjects)"
      ],
      "execution_count": null,
      "outputs": []
    },
    {
      "cell_type": "code",
      "metadata": {
        "colab": {
          "base_uri": "https://localhost:8080/"
        },
        "id": "eyOiiEPjlhOG",
        "outputId": "d2d6a874-c33c-41e8-ab2c-087904118ec8"
      },
      "source": [
        "# load data from one subject for a quick sanity check\n",
        "this_subj = subjects[0]\n",
        "test = np.load(filepath+'%s_sub-1%s.npy'%(roi,this_subj))\n",
        "print(test.shape)"
      ],
      "execution_count": null,
      "outputs": [
        {
          "output_type": "stream",
          "name": "stdout",
          "text": [
            "(516, 1776)\n"
          ]
        }
      ]
    },
    {
      "cell_type": "markdown",
      "metadata": {
        "id": "f6RTWk3AmYL-"
      },
      "source": [
        "There are 516 voxels in A1. There are 1776 total time points: 148 TRs per run * 12 runs."
      ]
    },
    {
      "cell_type": "code",
      "metadata": {
        "colab": {
          "base_uri": "https://localhost:8080/"
        },
        "id": "kJz5QrRxmUlW",
        "outputId": "869c5946-a9cb-48db-8458-c063a4883d8c"
      },
      "source": [
        "# load in the data from all subjects\n",
        "data = []\n",
        "for subj in subjects: \n",
        "  data.append(np.load(filepath+'%s_sub-1%s.npy'%(roi,subj)))\n",
        "\n",
        "# recast the list into an array and check the shape\n",
        "data = np.asarray(data)\n",
        "print(data.shape)"
      ],
      "execution_count": 36,
      "outputs": [
        {
          "output_type": "stream",
          "name": "stdout",
          "text": [
            "(4, 516, 1776)\n"
          ]
        }
      ]
    },
    {
      "cell_type": "markdown",
      "metadata": {
        "id": "YXufDF4dnGxW"
      },
      "source": [
        "Reshape the data so that it's subjects x voxels x TRs x conds x runs. This gives flexibility to select training and testing data for SRM later."
      ]
    },
    {
      "cell_type": "code",
      "metadata": {
        "colab": {
          "base_uri": "https://localhost:8080/"
        },
        "id": "fp65a7ktmv3B",
        "outputId": "ad75e813-be25-4a74-c64a-8d7adb5bc681"
      },
      "source": [
        "n_voxels = data.shape[1]\n",
        "n_TRs = 148\n",
        "n_conds = 4\n",
        "n_runs = 3\n",
        "\n",
        "orig_data = np.copy(data)\n",
        "orig_data = np.reshape(orig_data,(n_sub,n_voxels,n_TRs,n_conds,n_runs),order='F')\n",
        "print(orig_data.shape)"
      ],
      "execution_count": null,
      "outputs": [
        {
          "output_type": "stream",
          "name": "stdout",
          "text": [
            "(4, 516, 148, 4, 3)\n"
          ]
        }
      ]
    },
    {
      "cell_type": "markdown",
      "metadata": {
        "id": "tELPt168tMkY"
      },
      "source": [
        "As long as this array acts like the toy example (see earlier version and `ryc_toy_reshaping.ipynb`), then `order = 'F'` should keep the individual runs intact during the reshaping."
      ]
    },
    {
      "cell_type": "markdown",
      "metadata": {
        "id": "j8vDyhZg-usx"
      },
      "source": [
        "Before looking at any runs or conditions in particular, first we'll split the data into two folds and perform a k sweep. The following code is adapted in part from `ryc_TRxTR-SRM_090721.ipynb` which was adapted from the BrainIAK tutorial on SRM (number 11). The outcome measure will be feature-wise ISC, averaged over features and subjects."
      ]
    },
    {
      "cell_type": "code",
      "metadata": {
        "colab": {
          "base_uri": "https://localhost:8080/"
        },
        "id": "PBMIERXs8_FO",
        "outputId": "3a19fa0c-66c3-478b-b478-a9e6041dde23"
      },
      "source": [
        "# split the data into two halves\n",
        "data_firsthalf = data[:,:,:data.shape[2]//2]\n",
        "data_secondhalf = data[:,:,data.shape[2]//2:]\n",
        "print(data_firsthalf.shape)\n",
        "print(data_secondhalf.shape)"
      ],
      "execution_count": 37,
      "outputs": [
        {
          "output_type": "stream",
          "name": "stdout",
          "text": [
            "(4, 516, 888)\n",
            "(4, 516, 888)\n"
          ]
        }
      ]
    },
    {
      "cell_type": "markdown",
      "metadata": {
        "id": "BGEAHdHtAO0z"
      },
      "source": [
        "(The training and testing data for SRM don't necessarily have to be the same size, but they are in this case.)"
      ]
    },
    {
      "cell_type": "code",
      "metadata": {
        "colab": {
          "base_uri": "https://localhost:8080/"
        },
        "id": "5NXUH9ftABSz",
        "outputId": "e9074bc0-defb-484c-db80-6deb21717711"
      },
      "source": [
        "# set which k-values to use\n",
        "k_low = np.arange(10).tolist()\n",
        "k_mid = np.arange(10,100,10).tolist()\n",
        "k_high = np.arange(100,400,50).tolist()\n",
        "k = k_low + k_mid + k_high\n",
        "print(k)"
      ],
      "execution_count": null,
      "outputs": [
        {
          "output_type": "stream",
          "name": "stdout",
          "text": [
            "[0, 1, 2, 3, 4, 5, 6, 7, 8, 9, 10, 20, 30, 40, 50, 60, 70, 80, 90, 100, 150, 200, 250, 300, 350]\n"
          ]
        }
      ]
    },
    {
      "cell_type": "code",
      "metadata": {
        "colab": {
          "base_uri": "https://localhost:8080/"
        },
        "id": "zBqol10SDiOG",
        "outputId": "5dc203e3-c5bc-408d-a43e-07effe38b7e0"
      },
      "source": [
        "# first fold\n",
        "train_data = data_firsthalf\n",
        "test_data = data_secondhalf\n",
        "\n",
        "# normalize data in time for each subject\n",
        "for s in range(len(subjects)):\n",
        "  train_data[s] = stats.zscore(train_data[s],axis=1)\n",
        "  test_data[s] = stats.zscore(test_data[s],axis=1)\n",
        "\n",
        "print(train_data.shape)"
      ],
      "execution_count": 38,
      "outputs": [
        {
          "output_type": "stream",
          "name": "stdout",
          "text": [
            "(4, 516, 888)\n"
          ]
        }
      ]
    },
    {
      "cell_type": "code",
      "metadata": {
        "colab": {
          "base_uri": "https://localhost:8080/"
        },
        "id": "THfyesQtB53m",
        "outputId": "3ffa3c06-83b4-41f2-9d2a-c51145dfc229"
      },
      "source": [
        "k = [1,2]\n",
        "\n",
        "n_iter = 20\n",
        "\n",
        "isc_means = []\n",
        "\n",
        "for features in k:\n",
        "\n",
        "  # create the SRM object\n",
        "  srm = SRM(n_iter=n_iter, features=features)\n",
        "\n",
        "  # fit the SRM data\n",
        "  srm.fit(train_data)\n",
        "  print('SRM with %d features has been fit'%features)\n",
        "\n",
        "  # transform the test data\n",
        "  shared_test = srm.transform(test_data)\n",
        "\n",
        "  # reshape data for ISC\n",
        "  # data has to be TRs x voxels/features x subjects\n",
        "  shared_test = np.asarray(shared_test)\n",
        "  shared_test = np.transpose(shared_test,axes=[2,1,0])\n",
        "\n",
        "  # compute ISC\n",
        "  shared_test_isc = isc(shared_test)\n",
        "\n",
        "  # average over subjects\n",
        "  isc_by_feat = np.average(shared_test_isc,axis=0)\n",
        "  print(isc_by_feat)\n",
        "\n",
        "  # compute the mean ISC value\n",
        "  isc_means.append(np.average(isc_by_feat))"
      ],
      "execution_count": 40,
      "outputs": [
        {
          "output_type": "stream",
          "name": "stdout",
          "text": [
            "SRM with 1 features has been fit\n",
            "[0.17040531]\n",
            "SRM with 2 features has been fit\n",
            "[0.17941558 0.00505779]\n"
          ]
        }
      ]
    },
    {
      "cell_type": "code",
      "metadata": {
        "colab": {
          "base_uri": "https://localhost:8080/"
        },
        "id": "k1Lo5UcHDIh7",
        "outputId": "882e5b67-f6b9-4414-aa7e-323bcd9a70f8"
      },
      "source": [
        "print(isc_means)"
      ],
      "execution_count": 41,
      "outputs": [
        {
          "output_type": "stream",
          "name": "stdout",
          "text": [
            "[0.17040530556747666, 0.09223668681319352]\n"
          ]
        }
      ]
    },
    {
      "cell_type": "code",
      "metadata": {
        "id": "kjuQJQN3Evr6"
      },
      "source": [
        ""
      ],
      "execution_count": null,
      "outputs": []
    }
  ]
}