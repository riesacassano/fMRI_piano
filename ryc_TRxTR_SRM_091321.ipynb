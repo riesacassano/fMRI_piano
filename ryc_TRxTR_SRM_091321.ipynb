{
  "nbformat": 4,
  "nbformat_minor": 0,
  "metadata": {
    "colab": {
      "name": "ryc_TRxTR-SRM_091321.ipynb",
      "provenance": [],
      "collapsed_sections": []
    },
    "kernelspec": {
      "name": "python3",
      "display_name": "Python 3"
    },
    "language_info": {
      "name": "python"
    }
  },
  "cells": [
    {
      "cell_type": "code",
      "metadata": {
        "id": "HeJyKvUWb41H"
      },
      "source": [
        "!pip install brainiak"
      ],
      "execution_count": null,
      "outputs": []
    },
    {
      "cell_type": "code",
      "metadata": {
        "id": "WWOYxM4kb-z6"
      },
      "source": [
        "import numpy as np\n",
        "from scipy import stats\n",
        "import matplotlib.pyplot as plt\n",
        "#from brainiak.funcalign.srm import SRM\n",
        "#from brainiak.isc import isc"
      ],
      "execution_count": 1,
      "outputs": []
    },
    {
      "cell_type": "code",
      "metadata": {
        "id": "X6x3CQ-WcAKA"
      },
      "source": [
        "roi = 'A1'\n",
        "filepath = 'drive/MyDrive/fMRI_music_data/%s_by_subject_sorted_conds/'%roi\n",
        "subjects = ['03','15','20','23']\n",
        "n_sub = len(subjects)"
      ],
      "execution_count": 10,
      "outputs": []
    },
    {
      "cell_type": "code",
      "metadata": {
        "colab": {
          "base_uri": "https://localhost:8080/"
        },
        "id": "eyOiiEPjlhOG",
        "outputId": "723c78a4-b556-450e-dea1-5dc6e6d63d3e"
      },
      "source": [
        "# load data from one subject for a quick sanity check\n",
        "this_subj = subjects[0]\n",
        "test = np.load(filepath+'%s_sub-1%s.npy'%(roi,this_subj))\n",
        "print(test.shape)"
      ],
      "execution_count": 7,
      "outputs": [
        {
          "output_type": "stream",
          "name": "stdout",
          "text": [
            "(516, 1776)\n"
          ]
        }
      ]
    },
    {
      "cell_type": "markdown",
      "metadata": {
        "id": "f6RTWk3AmYL-"
      },
      "source": [
        "There are 516 voxels in A1. There are 1776 total time points: 148 TRs per run * 12 runs."
      ]
    },
    {
      "cell_type": "code",
      "metadata": {
        "colab": {
          "base_uri": "https://localhost:8080/"
        },
        "id": "kJz5QrRxmUlW",
        "outputId": "2631a64b-a8b2-4edd-92d0-75ea02854e26"
      },
      "source": [
        "# load in the data from all subjects\n",
        "data = []\n",
        "for subj in subjects: \n",
        "  data.append(np.load(filepath+'%s_sub-1%s.npy'%(roi,this_subj)))\n",
        "\n",
        "# recast the list into an array and check the shape\n",
        "data = np.asarray(data)\n",
        "print(data.shape)"
      ],
      "execution_count": 46,
      "outputs": [
        {
          "output_type": "stream",
          "name": "stdout",
          "text": [
            "(4, 516, 1776)\n"
          ]
        }
      ]
    },
    {
      "cell_type": "markdown",
      "metadata": {
        "id": "YXufDF4dnGxW"
      },
      "source": [
        "Reshape the data so that it's subjects x voxels x TRs x conds x runs. This gives flexibility to select training and testing data for SRM later."
      ]
    },
    {
      "cell_type": "code",
      "metadata": {
        "colab": {
          "base_uri": "https://localhost:8080/"
        },
        "id": "fp65a7ktmv3B",
        "outputId": "62c574c1-c866-4426-95ac-5e31a936e7da"
      },
      "source": [
        "n_voxels = data.shape[1]\n",
        "n_TRs = 148\n",
        "n_conds = 4\n",
        "n_runs = 3\n",
        "\n",
        "orig_data = np.copy(data)\n",
        "orig_data = np.reshape(orig_data,(n_sub,n_voxels,n_TRs,n_conds,n_runs),order='F')\n",
        "print(orig_data.shape)"
      ],
      "execution_count": 47,
      "outputs": [
        {
          "output_type": "stream",
          "name": "stdout",
          "text": [
            "(4, 516, 148, 4, 3)\n"
          ]
        }
      ]
    },
    {
      "cell_type": "markdown",
      "metadata": {
        "id": "tELPt168tMkY"
      },
      "source": [
        "As long as this array acts like the toy example (see earlier version), then `order = 'F'` should keep the individual runs intact during the reshaping."
      ]
    },
    {
      "cell_type": "code",
      "metadata": {
        "colab": {
          "base_uri": "https://localhost:8080/"
        },
        "id": "bAQUDe8StIdA",
        "outputId": "d21c7931-f414-4954-db35-fd3f7886542a"
      },
      "source": [
        "toy = np.arange(60)\n",
        "toy_re = np.reshape(toy,(5,4,3),order='F')\n",
        "print(toy_re)"
      ],
      "execution_count": 35,
      "outputs": [
        {
          "output_type": "stream",
          "name": "stdout",
          "text": [
            "[[[ 0 20 40]\n",
            "  [ 5 25 45]\n",
            "  [10 30 50]\n",
            "  [15 35 55]]\n",
            "\n",
            " [[ 1 21 41]\n",
            "  [ 6 26 46]\n",
            "  [11 31 51]\n",
            "  [16 36 56]]\n",
            "\n",
            " [[ 2 22 42]\n",
            "  [ 7 27 47]\n",
            "  [12 32 52]\n",
            "  [17 37 57]]\n",
            "\n",
            " [[ 3 23 43]\n",
            "  [ 8 28 48]\n",
            "  [13 33 53]\n",
            "  [18 38 58]]\n",
            "\n",
            " [[ 4 24 44]\n",
            "  [ 9 29 49]\n",
            "  [14 34 54]\n",
            "  [19 39 59]]]\n"
          ]
        }
      ]
    },
    {
      "cell_type": "code",
      "metadata": {
        "colab": {
          "base_uri": "https://localhost:8080/"
        },
        "id": "m2YKrzXwtqSZ",
        "outputId": "70f57459-a35d-4df5-c127-56abde57d574"
      },
      "source": [
        "toy_rere = np.reshape(toy_re,-1,order='F')\n",
        "print(toy_rere)"
      ],
      "execution_count": 37,
      "outputs": [
        {
          "output_type": "stream",
          "name": "stdout",
          "text": [
            "[ 0  1  2  3  4  5  6  7  8  9 10 11 12 13 14 15 16 17 18 19 20 21 22 23\n",
            " 24 25 26 27 28 29 30 31 32 33 34 35 36 37 38 39 40 41 42 43 44 45 46 47\n",
            " 48 49 50 51 52 53 54 55 56 57 58 59]\n"
          ]
        }
      ]
    },
    {
      "cell_type": "code",
      "metadata": {
        "colab": {
          "base_uri": "https://localhost:8080/"
        },
        "id": "In9O1y-5t0-Y",
        "outputId": "9f106f08-03b7-4fde-c030-ab4d83a9de73"
      },
      "source": [
        "toy1 = np.reshape(toy,(20,3),order='F')\n",
        "print(toy1)"
      ],
      "execution_count": 39,
      "outputs": [
        {
          "output_type": "stream",
          "name": "stdout",
          "text": [
            "[[ 0 20 40]\n",
            " [ 1 21 41]\n",
            " [ 2 22 42]\n",
            " [ 3 23 43]\n",
            " [ 4 24 44]\n",
            " [ 5 25 45]\n",
            " [ 6 26 46]\n",
            " [ 7 27 47]\n",
            " [ 8 28 48]\n",
            " [ 9 29 49]\n",
            " [10 30 50]\n",
            " [11 31 51]\n",
            " [12 32 52]\n",
            " [13 33 53]\n",
            " [14 34 54]\n",
            " [15 35 55]\n",
            " [16 36 56]\n",
            " [17 37 57]\n",
            " [18 38 58]\n",
            " [19 39 59]]\n"
          ]
        }
      ]
    },
    {
      "cell_type": "code",
      "metadata": {
        "colab": {
          "base_uri": "https://localhost:8080/"
        },
        "id": "OtYGjJXbuj10",
        "outputId": "03816f22-eb3f-4b2f-d9b3-d706de123b3a"
      },
      "source": [
        "print(toy1[:,0])"
      ],
      "execution_count": 41,
      "outputs": [
        {
          "output_type": "stream",
          "name": "stdout",
          "text": [
            "[ 0  1  2  3  4  5  6  7  8  9 10 11 12 13 14 15 16 17 18 19]\n"
          ]
        }
      ]
    },
    {
      "cell_type": "code",
      "metadata": {
        "colab": {
          "base_uri": "https://localhost:8080/"
        },
        "id": "K0JbWMpFuoh6",
        "outputId": "17102c7c-eb02-43b7-f083-b9a16df43ef0"
      },
      "source": [
        "toy2 = np.reshape(toy1,(5,4,3),order='F')\n",
        "print(toy2[:,:,0])"
      ],
      "execution_count": 45,
      "outputs": [
        {
          "output_type": "stream",
          "name": "stdout",
          "text": [
            "[[ 0  5 10 15]\n",
            " [ 1  6 11 16]\n",
            " [ 2  7 12 17]\n",
            " [ 3  8 13 18]\n",
            " [ 4  9 14 19]]\n"
          ]
        }
      ]
    },
    {
      "cell_type": "code",
      "metadata": {
        "id": "0Pnj3OMTu4MB"
      },
      "source": [
        ""
      ],
      "execution_count": null,
      "outputs": []
    }
  ]
}